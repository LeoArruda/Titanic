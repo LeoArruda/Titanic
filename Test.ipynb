{
 "cells": [
  {
   "cell_type": "code",
   "execution_count": 1,
   "metadata": {},
   "outputs": [
    {
     "name": "stderr",
     "output_type": "stream",
     "text": [
      "/Users/leandroarruda/anaconda3/lib/python3.6/site-packages/sklearn/cross_validation.py:44: DeprecationWarning: This module was deprecated in version 0.18 in favor of the model_selection module into which all the refactored classes and functions are moved. Also note that the interface of the new CV iterators are different from that of this module. This module will be removed in 0.20.\n",
      "  \"This module will be removed in 0.20.\", DeprecationWarning)\n"
     ]
    }
   ],
   "source": [
    "import warnings\n",
    "warnings.filterwarnings('ignore')\n",
    "\n",
    "# SKLearn Model Algorithms\n",
    "from sklearn.tree import DecisionTreeClassifier\n",
    "from sklearn.linear_model import LogisticRegression , Perceptron\n",
    "from sklearn.neural_network import MLPClassifier\n",
    "from sklearn.neighbors import KNeighborsClassifier\n",
    "from sklearn.naive_bayes import GaussianNB\n",
    "from sklearn.svm import SVC, LinearSVC\n",
    "\n",
    "# SKLearn ensemble classifiers\n",
    "from sklearn.ensemble import RandomForestClassifier , GradientBoostingClassifier\n",
    "from sklearn.ensemble import ExtraTreesClassifier , BaggingClassifier\n",
    "from sklearn.ensemble import VotingClassifier , AdaBoostClassifier\n",
    "\n",
    "# SKLearn Modelling Helpers\n",
    "from sklearn.preprocessing import Imputer , Normalizer , scale\n",
    "from sklearn.cross_validation import train_test_split , StratifiedKFold\n",
    "from sklearn.feature_selection import RFECV\n",
    "\n",
    "# Handle table-like data and matrices\n",
    "import numpy as np\n",
    "import pandas as pd\n",
    "\n",
    "# Visualisation\n",
    "import matplotlib as mpl\n",
    "import matplotlib.pyplot as plt\n",
    "import matplotlib.pylab as pylab\n",
    "import seaborn as sns\n",
    "\n",
    "# plot functions\n",
    "import plotFunctions as pfunc\n",
    "import dataFunctions as dfunc\n",
    "\n",
    "# Configure visualisations\n",
    "%matplotlib inline\n",
    "mpl.style.use( 'ggplot' )\n",
    "sns.set_style( 'white' )\n",
    "pylab.rcParams[ 'figure.figsize' ] = 8 , 6"
   ]
  },
  {
   "cell_type": "code",
   "execution_count": 2,
   "metadata": {
    "collapsed": true
   },
   "outputs": [],
   "source": [
    "full = dfunc.loadData()"
   ]
  },
  {
   "cell_type": "code",
   "execution_count": 10,
   "metadata": {},
   "outputs": [
    {
     "data": {
      "text/html": [
       "<div>\n",
       "<table border=\"1\" class=\"dataframe\">\n",
       "  <thead>\n",
       "    <tr style=\"text-align: right;\">\n",
       "      <th></th>\n",
       "      <th>Age</th>\n",
       "      <th>Cabin</th>\n",
       "      <th>Embarked</th>\n",
       "      <th>Fare</th>\n",
       "      <th>Name</th>\n",
       "      <th>Parch</th>\n",
       "      <th>PassengerId</th>\n",
       "      <th>Pclass</th>\n",
       "      <th>SibSp</th>\n",
       "      <th>Survived</th>\n",
       "      <th>Ticket</th>\n",
       "      <th>Sex</th>\n",
       "      <th>Title</th>\n",
       "      <th>Master</th>\n",
       "      <th>Miss</th>\n",
       "      <th>Mr</th>\n",
       "      <th>Mrs</th>\n",
       "      <th>Officer</th>\n",
       "      <th>Royalty</th>\n",
       "    </tr>\n",
       "  </thead>\n",
       "  <tbody>\n",
       "    <tr>\n",
       "      <th>0</th>\n",
       "      <td>22.0</td>\n",
       "      <td>NaN</td>\n",
       "      <td>S</td>\n",
       "      <td>7.2500</td>\n",
       "      <td>Braund, Mr. Owen Harris</td>\n",
       "      <td>0</td>\n",
       "      <td>1</td>\n",
       "      <td>3</td>\n",
       "      <td>1</td>\n",
       "      <td>0.0</td>\n",
       "      <td>A/5 21171</td>\n",
       "      <td>0</td>\n",
       "      <td>Mr</td>\n",
       "      <td>0</td>\n",
       "      <td>0</td>\n",
       "      <td>1</td>\n",
       "      <td>0</td>\n",
       "      <td>0</td>\n",
       "      <td>0</td>\n",
       "    </tr>\n",
       "    <tr>\n",
       "      <th>1</th>\n",
       "      <td>38.0</td>\n",
       "      <td>C85</td>\n",
       "      <td>C</td>\n",
       "      <td>71.2833</td>\n",
       "      <td>Cumings, Mrs. John Bradley (Florence Briggs Th...</td>\n",
       "      <td>0</td>\n",
       "      <td>2</td>\n",
       "      <td>1</td>\n",
       "      <td>1</td>\n",
       "      <td>1.0</td>\n",
       "      <td>PC 17599</td>\n",
       "      <td>1</td>\n",
       "      <td>Mrs</td>\n",
       "      <td>0</td>\n",
       "      <td>0</td>\n",
       "      <td>0</td>\n",
       "      <td>1</td>\n",
       "      <td>0</td>\n",
       "      <td>0</td>\n",
       "    </tr>\n",
       "    <tr>\n",
       "      <th>2</th>\n",
       "      <td>26.0</td>\n",
       "      <td>NaN</td>\n",
       "      <td>S</td>\n",
       "      <td>7.9250</td>\n",
       "      <td>Heikkinen, Miss. Laina</td>\n",
       "      <td>0</td>\n",
       "      <td>3</td>\n",
       "      <td>3</td>\n",
       "      <td>0</td>\n",
       "      <td>1.0</td>\n",
       "      <td>STON/O2. 3101282</td>\n",
       "      <td>1</td>\n",
       "      <td>Miss</td>\n",
       "      <td>0</td>\n",
       "      <td>1</td>\n",
       "      <td>0</td>\n",
       "      <td>0</td>\n",
       "      <td>0</td>\n",
       "      <td>0</td>\n",
       "    </tr>\n",
       "    <tr>\n",
       "      <th>3</th>\n",
       "      <td>35.0</td>\n",
       "      <td>C123</td>\n",
       "      <td>S</td>\n",
       "      <td>53.1000</td>\n",
       "      <td>Futrelle, Mrs. Jacques Heath (Lily May Peel)</td>\n",
       "      <td>0</td>\n",
       "      <td>4</td>\n",
       "      <td>1</td>\n",
       "      <td>1</td>\n",
       "      <td>1.0</td>\n",
       "      <td>113803</td>\n",
       "      <td>1</td>\n",
       "      <td>Mrs</td>\n",
       "      <td>0</td>\n",
       "      <td>0</td>\n",
       "      <td>0</td>\n",
       "      <td>1</td>\n",
       "      <td>0</td>\n",
       "      <td>0</td>\n",
       "    </tr>\n",
       "    <tr>\n",
       "      <th>4</th>\n",
       "      <td>35.0</td>\n",
       "      <td>NaN</td>\n",
       "      <td>S</td>\n",
       "      <td>8.0500</td>\n",
       "      <td>Allen, Mr. William Henry</td>\n",
       "      <td>0</td>\n",
       "      <td>5</td>\n",
       "      <td>3</td>\n",
       "      <td>0</td>\n",
       "      <td>0.0</td>\n",
       "      <td>373450</td>\n",
       "      <td>0</td>\n",
       "      <td>Mr</td>\n",
       "      <td>0</td>\n",
       "      <td>0</td>\n",
       "      <td>1</td>\n",
       "      <td>0</td>\n",
       "      <td>0</td>\n",
       "      <td>0</td>\n",
       "    </tr>\n",
       "    <tr>\n",
       "      <th>5</th>\n",
       "      <td>26.0</td>\n",
       "      <td>NaN</td>\n",
       "      <td>Q</td>\n",
       "      <td>8.4583</td>\n",
       "      <td>Moran, Mr. James</td>\n",
       "      <td>0</td>\n",
       "      <td>6</td>\n",
       "      <td>3</td>\n",
       "      <td>0</td>\n",
       "      <td>0.0</td>\n",
       "      <td>330877</td>\n",
       "      <td>0</td>\n",
       "      <td>Mr</td>\n",
       "      <td>0</td>\n",
       "      <td>0</td>\n",
       "      <td>1</td>\n",
       "      <td>0</td>\n",
       "      <td>0</td>\n",
       "      <td>0</td>\n",
       "    </tr>\n",
       "    <tr>\n",
       "      <th>6</th>\n",
       "      <td>54.0</td>\n",
       "      <td>E46</td>\n",
       "      <td>S</td>\n",
       "      <td>51.8625</td>\n",
       "      <td>McCarthy, Mr. Timothy J</td>\n",
       "      <td>0</td>\n",
       "      <td>7</td>\n",
       "      <td>1</td>\n",
       "      <td>0</td>\n",
       "      <td>0.0</td>\n",
       "      <td>17463</td>\n",
       "      <td>0</td>\n",
       "      <td>Mr</td>\n",
       "      <td>0</td>\n",
       "      <td>0</td>\n",
       "      <td>1</td>\n",
       "      <td>0</td>\n",
       "      <td>0</td>\n",
       "      <td>0</td>\n",
       "    </tr>\n",
       "    <tr>\n",
       "      <th>7</th>\n",
       "      <td>2.0</td>\n",
       "      <td>NaN</td>\n",
       "      <td>S</td>\n",
       "      <td>21.0750</td>\n",
       "      <td>Palsson, Master. Gosta Leonard</td>\n",
       "      <td>1</td>\n",
       "      <td>8</td>\n",
       "      <td>3</td>\n",
       "      <td>3</td>\n",
       "      <td>0.0</td>\n",
       "      <td>349909</td>\n",
       "      <td>0</td>\n",
       "      <td>Master</td>\n",
       "      <td>1</td>\n",
       "      <td>0</td>\n",
       "      <td>0</td>\n",
       "      <td>0</td>\n",
       "      <td>0</td>\n",
       "      <td>0</td>\n",
       "    </tr>\n",
       "    <tr>\n",
       "      <th>8</th>\n",
       "      <td>27.0</td>\n",
       "      <td>NaN</td>\n",
       "      <td>S</td>\n",
       "      <td>11.1333</td>\n",
       "      <td>Johnson, Mrs. Oscar W (Elisabeth Vilhelmina Berg)</td>\n",
       "      <td>2</td>\n",
       "      <td>9</td>\n",
       "      <td>3</td>\n",
       "      <td>0</td>\n",
       "      <td>1.0</td>\n",
       "      <td>347742</td>\n",
       "      <td>1</td>\n",
       "      <td>Mrs</td>\n",
       "      <td>0</td>\n",
       "      <td>0</td>\n",
       "      <td>0</td>\n",
       "      <td>1</td>\n",
       "      <td>0</td>\n",
       "      <td>0</td>\n",
       "    </tr>\n",
       "    <tr>\n",
       "      <th>9</th>\n",
       "      <td>14.0</td>\n",
       "      <td>NaN</td>\n",
       "      <td>C</td>\n",
       "      <td>30.0708</td>\n",
       "      <td>Nasser, Mrs. Nicholas (Adele Achem)</td>\n",
       "      <td>0</td>\n",
       "      <td>10</td>\n",
       "      <td>2</td>\n",
       "      <td>1</td>\n",
       "      <td>1.0</td>\n",
       "      <td>237736</td>\n",
       "      <td>1</td>\n",
       "      <td>Mrs</td>\n",
       "      <td>0</td>\n",
       "      <td>0</td>\n",
       "      <td>0</td>\n",
       "      <td>1</td>\n",
       "      <td>0</td>\n",
       "      <td>0</td>\n",
       "    </tr>\n",
       "  </tbody>\n",
       "</table>\n",
       "</div>"
      ],
      "text/plain": [
       "    Age Cabin Embarked     Fare  \\\n",
       "0  22.0   NaN        S   7.2500   \n",
       "1  38.0   C85        C  71.2833   \n",
       "2  26.0   NaN        S   7.9250   \n",
       "3  35.0  C123        S  53.1000   \n",
       "4  35.0   NaN        S   8.0500   \n",
       "5  26.0   NaN        Q   8.4583   \n",
       "6  54.0   E46        S  51.8625   \n",
       "7   2.0   NaN        S  21.0750   \n",
       "8  27.0   NaN        S  11.1333   \n",
       "9  14.0   NaN        C  30.0708   \n",
       "\n",
       "                                                Name  Parch  PassengerId  \\\n",
       "0                            Braund, Mr. Owen Harris      0            1   \n",
       "1  Cumings, Mrs. John Bradley (Florence Briggs Th...      0            2   \n",
       "2                             Heikkinen, Miss. Laina      0            3   \n",
       "3       Futrelle, Mrs. Jacques Heath (Lily May Peel)      0            4   \n",
       "4                           Allen, Mr. William Henry      0            5   \n",
       "5                                   Moran, Mr. James      0            6   \n",
       "6                            McCarthy, Mr. Timothy J      0            7   \n",
       "7                     Palsson, Master. Gosta Leonard      1            8   \n",
       "8  Johnson, Mrs. Oscar W (Elisabeth Vilhelmina Berg)      2            9   \n",
       "9                Nasser, Mrs. Nicholas (Adele Achem)      0           10   \n",
       "\n",
       "   Pclass  SibSp  Survived            Ticket  Sex   Title  Master  Miss  Mr  \\\n",
       "0       3      1       0.0         A/5 21171    0      Mr       0     0   1   \n",
       "1       1      1       1.0          PC 17599    1     Mrs       0     0   0   \n",
       "2       3      0       1.0  STON/O2. 3101282    1    Miss       0     1   0   \n",
       "3       1      1       1.0            113803    1     Mrs       0     0   0   \n",
       "4       3      0       0.0            373450    0      Mr       0     0   1   \n",
       "5       3      0       0.0            330877    0      Mr       0     0   1   \n",
       "6       1      0       0.0             17463    0      Mr       0     0   1   \n",
       "7       3      3       0.0            349909    0  Master       1     0   0   \n",
       "8       3      0       1.0            347742    1     Mrs       0     0   0   \n",
       "9       2      1       1.0            237736    1     Mrs       0     0   0   \n",
       "\n",
       "   Mrs  Officer  Royalty  \n",
       "0    0        0        0  \n",
       "1    1        0        0  \n",
       "2    0        0        0  \n",
       "3    1        0        0  \n",
       "4    0        0        0  \n",
       "5    0        0        0  \n",
       "6    0        0        0  \n",
       "7    0        0        0  \n",
       "8    1        0        0  \n",
       "9    1        0        0  "
      ]
     },
     "execution_count": 10,
     "metadata": {},
     "output_type": "execute_result"
    }
   ],
   "source": [
    "full.head(10)"
   ]
  },
  {
   "cell_type": "code",
   "execution_count": 11,
   "metadata": {},
   "outputs": [
    {
     "name": "stdout",
     "output_type": "stream",
     "text": [
      "Age               0\n",
      "Cabin          1014\n",
      "Embarked          2\n",
      "Fare              1\n",
      "Name              0\n",
      "Parch             0\n",
      "PassengerId       0\n",
      "Pclass            0\n",
      "SibSp             0\n",
      "Survived        418\n",
      "Ticket            0\n",
      "Sex               0\n",
      "Title             0\n",
      "Master            0\n",
      "Miss              0\n",
      "Mr                0\n",
      "Mrs               0\n",
      "Officer           0\n",
      "Royalty           0\n",
      "dtype: int64\n"
     ]
    }
   ],
   "source": [
    "print(full.isnull().sum())"
   ]
  },
  {
   "cell_type": "code",
   "execution_count": 12,
   "metadata": {},
   "outputs": [
    {
     "name": "stdout",
     "output_type": "stream",
     "text": [
      "Process  Sex  : Concluded!\n"
     ]
    }
   ],
   "source": [
    "full = dfunc.convertSexToNum(full, True)"
   ]
  },
  {
   "cell_type": "code",
   "execution_count": 13,
   "metadata": {},
   "outputs": [
    {
     "name": "stdout",
     "output_type": "stream",
     "text": [
      "Process  Title  : Concluded!\n"
     ]
    }
   ],
   "source": [
    "full = dfunc.fillTitles(full)"
   ]
  },
  {
   "cell_type": "code",
   "execution_count": 14,
   "metadata": {},
   "outputs": [
    {
     "name": "stdout",
     "output_type": "stream",
     "text": [
      "Process  Age  : Concluded!\n"
     ]
    }
   ],
   "source": [
    "#full = dfunc.fillMissingAge(full)\n",
    "full = dfunc.fillAge(full)"
   ]
  },
  {
   "cell_type": "code",
   "execution_count": 15,
   "metadata": {},
   "outputs": [
    {
     "name": "stdout",
     "output_type": "stream",
     "text": [
      "<class 'pandas.core.frame.DataFrame'>\n",
      "RangeIndex: 1309 entries, 0 to 1308\n",
      "Data columns (total 25 columns):\n",
      "Age            1309 non-null float64\n",
      "Cabin          295 non-null object\n",
      "Embarked       1307 non-null object\n",
      "Fare           1308 non-null float64\n",
      "Name           1309 non-null object\n",
      "Parch          1309 non-null int64\n",
      "PassengerId    1309 non-null int64\n",
      "Pclass         1309 non-null int64\n",
      "SibSp          1309 non-null int64\n",
      "Survived       891 non-null float64\n",
      "Ticket         1309 non-null object\n",
      "Title          1309 non-null object\n",
      "Master         1309 non-null uint8\n",
      "Miss           1309 non-null uint8\n",
      "Mr             1309 non-null uint8\n",
      "Mrs            1309 non-null uint8\n",
      "Officer        1309 non-null uint8\n",
      "Royalty        1309 non-null uint8\n",
      "Sex            1309 non-null int64\n",
      "Master         1309 non-null uint8\n",
      "Miss           1309 non-null uint8\n",
      "Mr             1309 non-null uint8\n",
      "Mrs            1309 non-null uint8\n",
      "Officer        1309 non-null uint8\n",
      "Royalty        1309 non-null uint8\n",
      "dtypes: float64(3), int64(5), object(5), uint8(12)\n",
      "memory usage: 148.4+ KB\n"
     ]
    }
   ],
   "source": [
    "full.info()"
   ]
  },
  {
   "cell_type": "code",
   "execution_count": 16,
   "metadata": {},
   "outputs": [
    {
     "name": "stdout",
     "output_type": "stream",
     "text": [
      "Process  Fare  : Concluded!\n"
     ]
    }
   ],
   "source": [
    "full = dfunc.fillMissingFare(full)"
   ]
  },
  {
   "cell_type": "code",
   "execution_count": 17,
   "metadata": {},
   "outputs": [
    {
     "name": "stdout",
     "output_type": "stream",
     "text": [
      "Process  Family  : Concluded!\n",
      "Process  Ticket group  : Concluded!\n",
      "Process  Fare  : Concluded!\n"
     ]
    }
   ],
   "source": [
    "full = dfunc.featureEng(full)"
   ]
  },
  {
   "cell_type": "code",
   "execution_count": 18,
   "metadata": {},
   "outputs": [
    {
     "name": "stdout",
     "output_type": "stream",
     "text": [
      "Process  Embarked  : Concluded!\n"
     ]
    }
   ],
   "source": [
    "full = dfunc.fillEmbarked(full)"
   ]
  },
  {
   "cell_type": "code",
   "execution_count": 19,
   "metadata": {},
   "outputs": [
    {
     "name": "stdout",
     "output_type": "stream",
     "text": [
      "Process  Title  : Concluded!\n"
     ]
    }
   ],
   "source": [
    "full = dfunc.fillTitles(full)"
   ]
  },
  {
   "cell_type": "code",
   "execution_count": 20,
   "metadata": {},
   "outputs": [
    {
     "name": "stdout",
     "output_type": "stream",
     "text": [
      "Process  Ticket  : Concluded!\n"
     ]
    }
   ],
   "source": [
    "full = dfunc.fillTicket(full)"
   ]
  },
  {
   "cell_type": "code",
   "execution_count": 21,
   "metadata": {},
   "outputs": [
    {
     "name": "stdout",
     "output_type": "stream",
     "text": [
      "Process  Deck  : Concluded!\n"
     ]
    }
   ],
   "source": [
    "full = dfunc.fillDeck(full)"
   ]
  },
  {
   "cell_type": "code",
   "execution_count": 22,
   "metadata": {
    "collapsed": true
   },
   "outputs": [],
   "source": [
    "#full = dfunc.fillCabin(full)"
   ]
  },
  {
   "cell_type": "code",
   "execution_count": 23,
   "metadata": {},
   "outputs": [
    {
     "name": "stdout",
     "output_type": "stream",
     "text": [
      "Age                  0\n",
      "Cabin             1014\n",
      "Fare                 0\n",
      "Name                 0\n",
      "Parch                0\n",
      "PassengerId          0\n",
      "Pclass               0\n",
      "SibSp                0\n",
      "Survived           418\n",
      "Title                0\n",
      "Master               0\n",
      "Miss                 0\n",
      "Mr                   0\n",
      "Mrs                  0\n",
      "Officer              0\n",
      "Royalty              0\n",
      "Sex                  0\n",
      "Master               0\n",
      "Miss                 0\n",
      "Mr                   0\n",
      "Mrs                  0\n",
      "Officer              0\n",
      "Royalty              0\n",
      "Child                0\n",
      "Young                0\n",
      "Family               0\n",
      "Family1              0\n",
      "Family2              0\n",
      "Family3              0\n",
      "Family4              0\n",
      "                  ... \n",
      "Ticket_CASOTON       0\n",
      "Ticket_FC            0\n",
      "Ticket_FCC           0\n",
      "Ticket_Fa            0\n",
      "Ticket_LINE          0\n",
      "Ticket_LP            0\n",
      "Ticket_PC            0\n",
      "Ticket_PP            0\n",
      "Ticket_PPP           0\n",
      "Ticket_SC            0\n",
      "Ticket_SCA3          0\n",
      "Ticket_SCA4          0\n",
      "Ticket_SCAH          0\n",
      "Ticket_SCOW          0\n",
      "Ticket_SCPARIS       0\n",
      "Ticket_SCParis       0\n",
      "Ticket_SOC           0\n",
      "Ticket_SOP           0\n",
      "Ticket_SOPP          0\n",
      "Ticket_SOTONO2       0\n",
      "Ticket_SOTONOQ       0\n",
      "Ticket_SP            0\n",
      "Ticket_STONO         0\n",
      "Ticket_STONO2        0\n",
      "Ticket_STONOQ        0\n",
      "Ticket_SWPP          0\n",
      "Ticket_WC            0\n",
      "Ticket_WEP           0\n",
      "Ticket_XXX           0\n",
      "Deck                 0\n",
      "dtype: int64\n"
     ]
    }
   ],
   "source": [
    "print(full.isnull().sum())\n"
   ]
  },
  {
   "cell_type": "code",
   "execution_count": 24,
   "metadata": {},
   "outputs": [
    {
     "name": "stdout",
     "output_type": "stream",
     "text": [
      "<class 'pandas.core.frame.DataFrame'>\n",
      "RangeIndex: 1309 entries, 0 to 1308\n",
      "Data columns (total 89 columns):\n",
      "Age               1309 non-null float64\n",
      "Cabin             295 non-null object\n",
      "Fare              1309 non-null float64\n",
      "Name              1309 non-null object\n",
      "Parch             1309 non-null int64\n",
      "PassengerId       1309 non-null int64\n",
      "Pclass            1309 non-null int64\n",
      "SibSp             1309 non-null int64\n",
      "Survived          891 non-null float64\n",
      "Title             1309 non-null object\n",
      "Master            1309 non-null uint8\n",
      "Miss              1309 non-null uint8\n",
      "Mr                1309 non-null uint8\n",
      "Mrs               1309 non-null uint8\n",
      "Officer           1309 non-null uint8\n",
      "Royalty           1309 non-null uint8\n",
      "Sex               1309 non-null int64\n",
      "Master            1309 non-null uint8\n",
      "Miss              1309 non-null uint8\n",
      "Mr                1309 non-null uint8\n",
      "Mrs               1309 non-null uint8\n",
      "Officer           1309 non-null uint8\n",
      "Royalty           1309 non-null uint8\n",
      "Child             1309 non-null bool\n",
      "Young             1309 non-null bool\n",
      "Family            1309 non-null int64\n",
      "Family1           1309 non-null int64\n",
      "Family2           1309 non-null int64\n",
      "Family3           1309 non-null int64\n",
      "Family4           1309 non-null int64\n",
      "Family5           1309 non-null int64\n",
      "Family6           1309 non-null int64\n",
      "Family7           1309 non-null int64\n",
      "Family8           1309 non-null int64\n",
      "Family9           1309 non-null int64\n",
      "Family10          1309 non-null int64\n",
      "TicketType        1309 non-null object\n",
      "Fare_cat          1309 non-null int64\n",
      "Shared_ticket     1309 non-null int64\n",
      "Ticket_group      1309 non-null int64\n",
      "Fare_eff          1309 non-null float64\n",
      "Fare_eff_cat      1309 non-null int64\n",
      "Embarked_C        1309 non-null uint8\n",
      "Embarked_Q        1309 non-null uint8\n",
      "Embarked_S        1309 non-null uint8\n",
      "Master            1309 non-null uint8\n",
      "Miss              1309 non-null uint8\n",
      "Mr                1309 non-null uint8\n",
      "Mrs               1309 non-null uint8\n",
      "Officer           1309 non-null uint8\n",
      "Royalty           1309 non-null uint8\n",
      "Ticket_A          1309 non-null uint8\n",
      "Ticket_A4         1309 non-null uint8\n",
      "Ticket_A5         1309 non-null uint8\n",
      "Ticket_AQ3        1309 non-null uint8\n",
      "Ticket_AQ4        1309 non-null uint8\n",
      "Ticket_AS         1309 non-null uint8\n",
      "Ticket_C          1309 non-null uint8\n",
      "Ticket_CA         1309 non-null uint8\n",
      "Ticket_CASOTON    1309 non-null uint8\n",
      "Ticket_FC         1309 non-null uint8\n",
      "Ticket_FCC        1309 non-null uint8\n",
      "Ticket_Fa         1309 non-null uint8\n",
      "Ticket_LINE       1309 non-null uint8\n",
      "Ticket_LP         1309 non-null uint8\n",
      "Ticket_PC         1309 non-null uint8\n",
      "Ticket_PP         1309 non-null uint8\n",
      "Ticket_PPP        1309 non-null uint8\n",
      "Ticket_SC         1309 non-null uint8\n",
      "Ticket_SCA3       1309 non-null uint8\n",
      "Ticket_SCA4       1309 non-null uint8\n",
      "Ticket_SCAH       1309 non-null uint8\n",
      "Ticket_SCOW       1309 non-null uint8\n",
      "Ticket_SCPARIS    1309 non-null uint8\n",
      "Ticket_SCParis    1309 non-null uint8\n",
      "Ticket_SOC        1309 non-null uint8\n",
      "Ticket_SOP        1309 non-null uint8\n",
      "Ticket_SOPP       1309 non-null uint8\n",
      "Ticket_SOTONO2    1309 non-null uint8\n",
      "Ticket_SOTONOQ    1309 non-null uint8\n",
      "Ticket_SP         1309 non-null uint8\n",
      "Ticket_STONO      1309 non-null uint8\n",
      "Ticket_STONO2     1309 non-null uint8\n",
      "Ticket_STONOQ     1309 non-null uint8\n",
      "Ticket_SWPP       1309 non-null uint8\n",
      "Ticket_WC         1309 non-null uint8\n",
      "Ticket_WEP        1309 non-null uint8\n",
      "Ticket_XXX        1309 non-null uint8\n",
      "Deck              1309 non-null object\n",
      "dtypes: bool(2), float64(4), int64(20), object(5), uint8(58)\n",
      "memory usage: 373.3+ KB\n"
     ]
    }
   ],
   "source": [
    "full.info()"
   ]
  },
  {
   "cell_type": "code",
   "execution_count": 25,
   "metadata": {
    "collapsed": true
   },
   "outputs": [],
   "source": [
    "train_X, test_X, target_y = pfunc.prepareTrainTestTarget(full)\n",
    "model = RandomForestClassifier(n_estimators=100, max_features='sqrt')\n"
   ]
  },
  {
   "cell_type": "code",
   "execution_count": 26,
   "metadata": {
    "collapsed": true
   },
   "outputs": [],
   "source": [
    "train_X = train_X.drop('Cabin',1)\n",
    "train_X = train_X.drop('Name',1)\n",
    "train_X = train_X.drop('Title',1)\n",
    "train_X = train_X.drop('TicketType',1)\n",
    "train_X = train_X.drop('Deck',1)\n",
    "train_X = train_X.drop('Survived',1)"
   ]
  },
  {
   "cell_type": "code",
   "execution_count": 27,
   "metadata": {},
   "outputs": [
    {
     "name": "stdout",
     "output_type": "stream",
     "text": [
      "<class 'pandas.core.frame.DataFrame'>\n",
      "RangeIndex: 891 entries, 0 to 890\n",
      "Data columns (total 83 columns):\n",
      "Age               891 non-null float64\n",
      "Fare              891 non-null float64\n",
      "Parch             891 non-null int64\n",
      "PassengerId       891 non-null int64\n",
      "Pclass            891 non-null int64\n",
      "SibSp             891 non-null int64\n",
      "Master            891 non-null uint8\n",
      "Miss              891 non-null uint8\n",
      "Mr                891 non-null uint8\n",
      "Mrs               891 non-null uint8\n",
      "Officer           891 non-null uint8\n",
      "Royalty           891 non-null uint8\n",
      "Sex               891 non-null int64\n",
      "Master            891 non-null uint8\n",
      "Miss              891 non-null uint8\n",
      "Mr                891 non-null uint8\n",
      "Mrs               891 non-null uint8\n",
      "Officer           891 non-null uint8\n",
      "Royalty           891 non-null uint8\n",
      "Child             891 non-null bool\n",
      "Young             891 non-null bool\n",
      "Family            891 non-null int64\n",
      "Family1           891 non-null int64\n",
      "Family2           891 non-null int64\n",
      "Family3           891 non-null int64\n",
      "Family4           891 non-null int64\n",
      "Family5           891 non-null int64\n",
      "Family6           891 non-null int64\n",
      "Family7           891 non-null int64\n",
      "Family8           891 non-null int64\n",
      "Family9           891 non-null int64\n",
      "Family10          891 non-null int64\n",
      "Fare_cat          891 non-null int64\n",
      "Shared_ticket     891 non-null int64\n",
      "Ticket_group      891 non-null int64\n",
      "Fare_eff          891 non-null float64\n",
      "Fare_eff_cat      891 non-null int64\n",
      "Embarked_C        891 non-null uint8\n",
      "Embarked_Q        891 non-null uint8\n",
      "Embarked_S        891 non-null uint8\n",
      "Master            891 non-null uint8\n",
      "Miss              891 non-null uint8\n",
      "Mr                891 non-null uint8\n",
      "Mrs               891 non-null uint8\n",
      "Officer           891 non-null uint8\n",
      "Royalty           891 non-null uint8\n",
      "Ticket_A          891 non-null uint8\n",
      "Ticket_A4         891 non-null uint8\n",
      "Ticket_A5         891 non-null uint8\n",
      "Ticket_AQ3        891 non-null uint8\n",
      "Ticket_AQ4        891 non-null uint8\n",
      "Ticket_AS         891 non-null uint8\n",
      "Ticket_C          891 non-null uint8\n",
      "Ticket_CA         891 non-null uint8\n",
      "Ticket_CASOTON    891 non-null uint8\n",
      "Ticket_FC         891 non-null uint8\n",
      "Ticket_FCC        891 non-null uint8\n",
      "Ticket_Fa         891 non-null uint8\n",
      "Ticket_LINE       891 non-null uint8\n",
      "Ticket_LP         891 non-null uint8\n",
      "Ticket_PC         891 non-null uint8\n",
      "Ticket_PP         891 non-null uint8\n",
      "Ticket_PPP        891 non-null uint8\n",
      "Ticket_SC         891 non-null uint8\n",
      "Ticket_SCA3       891 non-null uint8\n",
      "Ticket_SCA4       891 non-null uint8\n",
      "Ticket_SCAH       891 non-null uint8\n",
      "Ticket_SCOW       891 non-null uint8\n",
      "Ticket_SCPARIS    891 non-null uint8\n",
      "Ticket_SCParis    891 non-null uint8\n",
      "Ticket_SOC        891 non-null uint8\n",
      "Ticket_SOP        891 non-null uint8\n",
      "Ticket_SOPP       891 non-null uint8\n",
      "Ticket_SOTONO2    891 non-null uint8\n",
      "Ticket_SOTONOQ    891 non-null uint8\n",
      "Ticket_SP         891 non-null uint8\n",
      "Ticket_STONO      891 non-null uint8\n",
      "Ticket_STONO2     891 non-null uint8\n",
      "Ticket_STONOQ     891 non-null uint8\n",
      "Ticket_SWPP       891 non-null uint8\n",
      "Ticket_WC         891 non-null uint8\n",
      "Ticket_WEP        891 non-null uint8\n",
      "Ticket_XXX        891 non-null uint8\n",
      "dtypes: bool(2), float64(3), int64(20), uint8(58)\n",
      "memory usage: 212.4 KB\n"
     ]
    }
   ],
   "source": [
    "train_X.info()"
   ]
  },
  {
   "cell_type": "code",
   "execution_count": 28,
   "metadata": {},
   "outputs": [
    {
     "data": {
      "text/plain": [
       "RandomForestClassifier(bootstrap=True, class_weight=None, criterion='gini',\n",
       "            max_depth=None, max_features='sqrt', max_leaf_nodes=None,\n",
       "            min_impurity_split=1e-07, min_samples_leaf=1,\n",
       "            min_samples_split=2, min_weight_fraction_leaf=0.0,\n",
       "            n_estimators=100, n_jobs=1, oob_score=False, random_state=None,\n",
       "            verbose=0, warm_start=False)"
      ]
     },
     "execution_count": 28,
     "metadata": {},
     "output_type": "execute_result"
    }
   ],
   "source": [
    "model.fit( train_X , target_y )"
   ]
  },
  {
   "cell_type": "code",
   "execution_count": 29,
   "metadata": {
    "collapsed": true
   },
   "outputs": [],
   "source": [
    "features = pd.DataFrame()\n",
    "features['feature'] = train_X.columns\n",
    "features['importance'] = model.feature_importances_\n",
    "features.sort_values(by=['importance'], ascending=True, inplace=True)\n",
    "features.set_index('feature', inplace=True)\n",
    "\n"
   ]
  },
  {
   "cell_type": "code",
   "execution_count": 30,
   "metadata": {},
   "outputs": [
    {
     "data": {
      "text/plain": [
       "<matplotlib.axes._subplots.AxesSubplot at 0x11a437160>"
      ]
     },
     "execution_count": 30,
     "metadata": {},
     "output_type": "execute_result"
    },
    {
     "data": {
      "image/png": "[encoded data removed]",
      "text/plain": [
       "<matplotlib.figure.Figure at 0x11a430710>"
      ]
     },
     "metadata": {},
     "output_type": "display_data"
    }
   ],
   "source": [
    "features.plot(kind='barh', figsize=(20, 20))"
   ]
  },
  {
   "cell_type": "code",
   "execution_count": 31,
   "metadata": {},
   "outputs": [
    {
     "data": {
      "text/plain": [
       "0.8025461497623757"
      ]
     },
     "execution_count": 31,
     "metadata": {},
     "output_type": "execute_result"
    }
   ],
   "source": [
    "pfunc.calcScore(model, train_X , target_y, scoring='accuracy')"
   ]
  },
  {
   "cell_type": "code",
   "execution_count": 32,
   "metadata": {
    "collapsed": true
   },
   "outputs": [],
   "source": [
    "resultScores = {'RandomForestClassifier': 0.0,\n",
    "                    'DecisionTreeClassifier': 0.0,\n",
    "                    'MLPClassifier': 0.0,\n",
    "                    'GradientBoostingClassifier': 0.0,\n",
    "                    'ExtraTreesClassifier': 0.0,\n",
    "                    'BaggingClassifier': 0.0,\n",
    "                    'AdaBoostClassifier': 0.0,\n",
    "                    'LinearSVC': 0.0,\n",
    "                    'LogisticRegression': 0.0}"
   ]
  },
  {
   "cell_type": "code",
   "execution_count": null,
   "metadata": {
    "collapsed": true
   },
   "outputs": [],
   "source": []
  },
  {
   "cell_type": "code",
   "execution_count": 33,
   "metadata": {},
   "outputs": [
    {
     "data": {
      "text/plain": [
       "RandomForestClassifier(bootstrap=False, class_weight=None, criterion='gini',\n",
       "            max_depth=6, max_features='sqrt', max_leaf_nodes=None,\n",
       "            min_impurity_split=1e-07, min_samples_leaf=3,\n",
       "            min_samples_split=10, min_weight_fraction_leaf=0.0,\n",
       "            n_estimators=100, n_jobs=1, oob_score=False, random_state=None,\n",
       "            verbose=0, warm_start=False)"
      ]
     },
     "execution_count": 33,
     "metadata": {},
     "output_type": "execute_result"
    }
   ],
   "source": [
    "parameters = {'bootstrap': False, 'min_samples_leaf': 3, 'n_estimators': 100, 'min_samples_split': 10, 'max_features': 'sqrt', 'max_depth': 6}\n",
    "model = RandomForestClassifier(**parameters)\n",
    "model.fit( train_X , target_y )"
   ]
  },
  {
   "cell_type": "code",
   "execution_count": 34,
   "metadata": {
    "collapsed": true
   },
   "outputs": [],
   "source": [
    "resultScores['RandomForestClassifier'] = pfunc.calcScore(model, train_X , target_y, scoring='accuracy')"
   ]
  },
  {
   "cell_type": "code",
   "execution_count": 35,
   "metadata": {},
   "outputs": [
    {
     "data": {
      "text/plain": [
       "dict_values([0.82606047903618252, 0.0, 0.0, 0.0, 0.0, 0.0, 0.0, 0.0, 0.0])"
      ]
     },
     "execution_count": 35,
     "metadata": {},
     "output_type": "execute_result"
    }
   ],
   "source": [
    "resultScores.values()"
   ]
  },
  {
   "cell_type": "code",
   "execution_count": 36,
   "metadata": {},
   "outputs": [
    {
     "data": {
      "text/plain": [
       "dict_keys(['RandomForestClassifier', 'DecisionTreeClassifier', 'MLPClassifier', 'GradientBoostingClassifier', 'ExtraTreesClassifier', 'BaggingClassifier', 'AdaBoostClassifier', 'LinearSVC', 'LogisticRegression'])"
      ]
     },
     "execution_count": 36,
     "metadata": {},
     "output_type": "execute_result"
    }
   ],
   "source": [
    "resultScores.keys()"
   ]
  },
  {
   "cell_type": "code",
   "execution_count": 37,
   "metadata": {
    "collapsed": true
   },
   "outputs": [],
   "source": [
    "model = DecisionTreeClassifier(random_state=0)\n",
    "model.fit( train_X , target_y )\n",
    "resultScores['DecisionTreeClassifier'] = pfunc.calcScore(model, train_X , target_y, scoring='accuracy')"
   ]
  },
  {
   "cell_type": "code",
   "execution_count": 38,
   "metadata": {
    "collapsed": true
   },
   "outputs": [],
   "source": [
    "model = MLPClassifier(solver='sgd', alpha=1e-5, hidden_layer_sizes=(10, 4), random_state=1)\n",
    "model.fit( train_X , target_y )\n",
    "resultScores['MLPClassifier'] = pfunc.calcScore(model, train_X , target_y, scoring='accuracy')"
   ]
  },
  {
   "cell_type": "code",
   "execution_count": 39,
   "metadata": {
    "collapsed": true
   },
   "outputs": [],
   "source": [
    "model = GradientBoostingClassifier()\n",
    "model.fit( train_X , target_y )\n",
    "resultScores['GradientBoostingClassifier'] = pfunc.calcScore(model, train_X , target_y, scoring='accuracy')"
   ]
  },
  {
   "cell_type": "code",
   "execution_count": 40,
   "metadata": {
    "collapsed": true
   },
   "outputs": [],
   "source": [
    "model = ExtraTreesClassifier()\n",
    "model.fit( train_X , target_y )\n",
    "resultScores['ExtraTreesClassifier'] = pfunc.calcScore(model, train_X , target_y, scoring='accuracy')"
   ]
  },
  {
   "cell_type": "code",
   "execution_count": 41,
   "metadata": {
    "collapsed": true
   },
   "outputs": [],
   "source": [
    "model = BaggingClassifier()\n",
    "model.fit( train_X , target_y )\n",
    "resultScores['BaggingClassifier'] = pfunc.calcScore(model, train_X , target_y, scoring='accuracy')"
   ]
  },
  {
   "cell_type": "code",
   "execution_count": 42,
   "metadata": {
    "collapsed": true
   },
   "outputs": [],
   "source": [
    "model = AdaBoostClassifier()\n",
    "model.fit( train_X , target_y )\n",
    "resultScores['AdaBoostClassifier'] = pfunc.calcScore(model, train_X , target_y, scoring='accuracy')"
   ]
  },
  {
   "cell_type": "code",
   "execution_count": 43,
   "metadata": {
    "collapsed": true
   },
   "outputs": [],
   "source": [
    "model = LinearSVC(random_state=0)\n",
    "model.fit( train_X , target_y )\n",
    "resultScores['LinearSVC'] = pfunc.calcScore(model, train_X , target_y, scoring='accuracy')"
   ]
  },
  {
   "cell_type": "code",
   "execution_count": 44,
   "metadata": {
    "collapsed": true
   },
   "outputs": [],
   "source": [
    "model = LogisticRegression()\n",
    "model.fit( train_X , target_y )\n",
    "resultScores['LogisticRegression'] = pfunc.calcScore(model, train_X , target_y, scoring='accuracy')"
   ]
  },
  {
   "cell_type": "code",
   "execution_count": 45,
   "metadata": {},
   "outputs": [],
   "source": [
    "myDf = pd.DataFrame.from_dict(resultScores, orient='index')"
   ]
  },
  {
   "cell_type": "code",
   "execution_count": null,
   "metadata": {},
   "outputs": [],
   "source": []
  },
  {
   "cell_type": "code",
   "execution_count": null,
   "metadata": {
    "collapsed": true
   },
   "outputs": [],
   "source": []
  },
  {
   "cell_type": "code",
   "execution_count": null,
   "metadata": {
    "collapsed": true
   },
   "outputs": [],
   "source": [
    "myDf.sort_values(by=[0], ascending=True, inplace=True)"
   ]
  },
  {
   "cell_type": "code",
   "execution_count": 49,
   "metadata": {},
   "outputs": [
    {
     "data": {
      "text/html": [
       "<div>\n",
       "<table border=\"1\" class=\"dataframe\">\n",
       "  <thead>\n",
       "    <tr style=\"text-align: right;\">\n",
       "      <th></th>\n",
       "      <th>0</th>\n",
       "    </tr>\n",
       "  </thead>\n",
       "  <tbody>\n",
       "    <tr>\n",
       "      <th>MLPClassifier</th>\n",
       "      <td>0.545774</td>\n",
       "    </tr>\n",
       "    <tr>\n",
       "      <th>LinearSVC</th>\n",
       "      <td>0.602258</td>\n",
       "    </tr>\n",
       "    <tr>\n",
       "      <th>DecisionTreeClassifier</th>\n",
       "      <td>0.745387</td>\n",
       "    </tr>\n",
       "    <tr>\n",
       "      <th>AdaBoostClassifier</th>\n",
       "      <td>0.765549</td>\n",
       "    </tr>\n",
       "    <tr>\n",
       "      <th>GradientBoostingClassifier</th>\n",
       "      <td>0.785805</td>\n",
       "    </tr>\n",
       "    <tr>\n",
       "      <th>BaggingClassifier</th>\n",
       "      <td>0.789100</td>\n",
       "    </tr>\n",
       "    <tr>\n",
       "      <th>ExtraTreesClassifier</th>\n",
       "      <td>0.792453</td>\n",
       "    </tr>\n",
       "    <tr>\n",
       "      <th>LogisticRegression</th>\n",
       "      <td>0.813739</td>\n",
       "    </tr>\n",
       "    <tr>\n",
       "      <th>RandomForestClassifier</th>\n",
       "      <td>0.826060</td>\n",
       "    </tr>\n",
       "  </tbody>\n",
       "</table>\n",
       "</div>"
      ],
      "text/plain": [
       "                                   0\n",
       "MLPClassifier               0.545774\n",
       "LinearSVC                   0.602258\n",
       "DecisionTreeClassifier      0.745387\n",
       "AdaBoostClassifier          0.765549\n",
       "GradientBoostingClassifier  0.785805\n",
       "BaggingClassifier           0.789100\n",
       "ExtraTreesClassifier        0.792453\n",
       "LogisticRegression          0.813739\n",
       "RandomForestClassifier      0.826060"
      ]
     },
     "execution_count": 49,
     "metadata": {},
     "output_type": "execute_result"
    }
   ],
   "source": [
    "myDf"
   ]
  },
  {
   "cell_type": "code",
   "execution_count": 48,
   "metadata": {},
   "outputs": [
    {
     "data": {
      "text/plain": [
       "<matplotlib.axes._subplots.AxesSubplot at 0x11dc35f60>"
      ]
     },
     "execution_count": 48,
     "metadata": {},
     "output_type": "execute_result"
    },
    {
     "data": {
      "image/png": "[encoded data removed]",
      "text/plain": [
       "<matplotlib.figure.Figure at 0x11dc3c780>"
      ]
     },
     "metadata": {},
     "output_type": "display_data"
    }
   ],
   "source": [
    "myDf.plot(kind='barh', figsize=(10, 10))"
   ]
  },
  {
   "cell_type": "code",
   "execution_count": null,
   "metadata": {
    "collapsed": true
   },
   "outputs": [],
   "source": []
  },
  {
   "cell_type": "code",
   "execution_count": null,
   "metadata": {
    "collapsed": true
   },
   "outputs": [],
   "source": []
  },
  {
   "cell_type": "code",
   "execution_count": null,
   "metadata": {
    "collapsed": true
   },
   "outputs": [],
   "source": []
  },
  {
   "cell_type": "code",
   "execution_count": null,
   "metadata": {
    "collapsed": true
   },
   "outputs": [],
   "source": []
  },
  {
   "cell_type": "code",
   "execution_count": null,
   "metadata": {
    "collapsed": true
   },
   "outputs": [],
   "source": []
  },
  {
   "cell_type": "code",
   "execution_count": null,
   "metadata": {
    "collapsed": true
   },
   "outputs": [],
   "source": []
  },
  {
   "cell_type": "code",
   "execution_count": null,
   "metadata": {
    "collapsed": true
   },
   "outputs": [],
   "source": []
  }
 ],
 "metadata": {
  "kernelspec": {
   "display_name": "Python 3",
   "language": "python",
   "name": "python3"
  },
  "language_info": {
   "codemirror_mode": {
    "name": "ipython",
    "version": 3
   },
   "file_extension": ".py",
   "mimetype": "text/x-python",
   "name": "python",
   "nbconvert_exporter": "python",
   "pygments_lexer": "ipython3",
   "version": "3.6.0"
  }
 },
 "nbformat": 4,
 "nbformat_minor": 2
}
