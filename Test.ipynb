{
 "cells": [
  {
   "cell_type": "code",
   "execution_count": 1,
   "metadata": {},
   "outputs": [
    {
     "name": "stderr",
     "output_type": "stream",
     "text": [
<<<<<<< HEAD
      "/Users/leandroarruda/anaconda3/lib/python3.6/site-packages/sklearn/cross_validation.py:44: DeprecationWarning: This module was deprecated in version 0.18 in favor of the model_selection module into which all the refactored classes and functions are moved. Also note that the interface of the new CV iterators are different from that of this module. This module will be removed in 0.20.\n",
=======
      "C:\\Users\\lvarr\\AppData\\Local\\conda\\conda\\envs\\tensorflow\\lib\\site-packages\\sklearn\\cross_validation.py:44: DeprecationWarning: This module was deprecated in version 0.18 in favor of the model_selection module into which all the refactored classes and functions are moved. Also note that the interface of the new CV iterators are different from that of this module. This module will be removed in 0.20.\n",
>>>>>>> 9bc4d47d1ddf6f7222b36ce11368934676b39fc3
      "  \"This module will be removed in 0.20.\", DeprecationWarning)\n"
     ]
    }
   ],
   "source": [
    "import warnings\n",
    "warnings.filterwarnings('ignore')\n",
    "\n",
    "\n",
    "\n",
    "# SKLearn Model Algorithms\n",
    "from sklearn.tree import DecisionTreeClassifier\n",
    "from sklearn.linear_model import LogisticRegression , Perceptron\n",
    "from sklearn.neural_network import MLPClassifier\n",
    "from sklearn.neighbors import KNeighborsClassifier\n",
    "from sklearn.naive_bayes import GaussianNB\n",
    "from sklearn.svm import SVC, LinearSVC\n",
    "\n",
    "# SKLearn ensemble classifiers\n",
    "from sklearn.ensemble import RandomForestClassifier , GradientBoostingClassifier\n",
    "from sklearn.ensemble import ExtraTreesClassifier , BaggingClassifier\n",
    "from sklearn.ensemble import VotingClassifier , AdaBoostClassifier\n",
    "\n",
    "# SKLearn Modelling Helpers\n",
    "from sklearn.preprocessing import Imputer , Normalizer , scale\n",
    "from sklearn.cross_validation import train_test_split , StratifiedKFold\n",
    "from sklearn.feature_selection import RFECV\n",
    "\n",
    "# Handle table-like data and matrices\n",
    "import numpy as np\n",
    "import pandas as pd\n",
    "\n",
    "# Visualisation\n",
    "import matplotlib as mpl\n",
    "import matplotlib.pyplot as plt\n",
    "import matplotlib.pylab as pylab\n",
    "import seaborn as sns\n",
    "\n",
    "# plot functions\n",
    "import plotFunctions as pfunc\n",
    "import dataFunctions as dfunc\n",
    "\n",
    "# Configure visualisations\n",
    "%matplotlib inline\n",
    "mpl.style.use( 'ggplot' )\n",
    "sns.set_style( 'white' )\n",
    "pylab.rcParams[ 'figure.figsize' ] = 8 , 6"
   ]
  },
  {
   "cell_type": "code",
   "execution_count": 2,
   "metadata": {
    "collapsed": true
   },
   "outputs": [],
   "source": [
    "full = dfunc.loadData()"
   ]
  },
  {
   "cell_type": "code",
   "execution_count": 10,
   "metadata": {},
   "outputs": [
    {
     "data": {
      "text/html": [
       "<div>\n",
       "<table border=\"1\" class=\"dataframe\">\n",
       "  <thead>\n",
       "    <tr style=\"text-align: right;\">\n",
       "      <th></th>\n",
       "      <th>Age</th>\n",
       "      <th>Cabin</th>\n",
       "      <th>Embarked</th>\n",
       "      <th>Fare</th>\n",
       "      <th>Name</th>\n",
       "      <th>Parch</th>\n",
       "      <th>PassengerId</th>\n",
       "      <th>Pclass</th>\n",
       "      <th>SibSp</th>\n",
       "      <th>Survived</th>\n",
       "      <th>Ticket</th>\n",
       "      <th>Sex</th>\n",
       "      <th>Title</th>\n",
       "      <th>Master</th>\n",
       "      <th>Miss</th>\n",
       "      <th>Mr</th>\n",
       "      <th>Mrs</th>\n",
       "      <th>Officer</th>\n",
       "      <th>Royalty</th>\n",
       "    </tr>\n",
       "  </thead>\n",
       "  <tbody>\n",
       "    <tr>\n",
       "      <th>0</th>\n",
       "      <td>22.0</td>\n",
       "      <td>NaN</td>\n",
       "      <td>S</td>\n",
       "      <td>7.2500</td>\n",
       "      <td>Braund, Mr. Owen Harris</td>\n",
       "      <td>0</td>\n",
       "      <td>1</td>\n",
       "      <td>3</td>\n",
       "      <td>1</td>\n",
       "      <td>0.0</td>\n",
       "      <td>A/5 21171</td>\n",
       "      <td>0</td>\n",
       "      <td>Mr</td>\n",
       "      <td>0</td>\n",
       "      <td>0</td>\n",
       "      <td>1</td>\n",
       "      <td>0</td>\n",
       "      <td>0</td>\n",
       "      <td>0</td>\n",
       "    </tr>\n",
       "    <tr>\n",
       "      <th>1</th>\n",
       "      <td>38.0</td>\n",
       "      <td>C85</td>\n",
       "      <td>C</td>\n",
       "      <td>71.2833</td>\n",
       "      <td>Cumings, Mrs. John Bradley (Florence Briggs Th...</td>\n",
       "      <td>0</td>\n",
       "      <td>2</td>\n",
       "      <td>1</td>\n",
       "      <td>1</td>\n",
       "      <td>1.0</td>\n",
       "      <td>PC 17599</td>\n",
       "      <td>1</td>\n",
       "      <td>Mrs</td>\n",
       "      <td>0</td>\n",
       "      <td>0</td>\n",
       "      <td>0</td>\n",
       "      <td>1</td>\n",
       "      <td>0</td>\n",
       "      <td>0</td>\n",
       "    </tr>\n",
       "    <tr>\n",
       "      <th>2</th>\n",
       "      <td>26.0</td>\n",
       "      <td>NaN</td>\n",
       "      <td>S</td>\n",
       "      <td>7.9250</td>\n",
       "      <td>Heikkinen, Miss. Laina</td>\n",
       "      <td>0</td>\n",
       "      <td>3</td>\n",
       "      <td>3</td>\n",
       "      <td>0</td>\n",
       "      <td>1.0</td>\n",
       "      <td>STON/O2. 3101282</td>\n",
       "      <td>1</td>\n",
       "      <td>Miss</td>\n",
       "      <td>0</td>\n",
       "      <td>1</td>\n",
       "      <td>0</td>\n",
       "      <td>0</td>\n",
       "      <td>0</td>\n",
       "      <td>0</td>\n",
       "    </tr>\n",
       "    <tr>\n",
       "      <th>3</th>\n",
       "      <td>35.0</td>\n",
       "      <td>C123</td>\n",
       "      <td>S</td>\n",
       "      <td>53.1000</td>\n",
       "      <td>Futrelle, Mrs. Jacques Heath (Lily May Peel)</td>\n",
       "      <td>0</td>\n",
       "      <td>4</td>\n",
       "      <td>1</td>\n",
       "      <td>1</td>\n",
       "      <td>1.0</td>\n",
       "      <td>113803</td>\n",
       "      <td>1</td>\n",
       "      <td>Mrs</td>\n",
       "      <td>0</td>\n",
       "      <td>0</td>\n",
       "      <td>0</td>\n",
       "      <td>1</td>\n",
       "      <td>0</td>\n",
       "      <td>0</td>\n",
       "    </tr>\n",
       "    <tr>\n",
       "      <th>4</th>\n",
       "      <td>35.0</td>\n",
       "      <td>NaN</td>\n",
       "      <td>S</td>\n",
       "      <td>8.0500</td>\n",
       "      <td>Allen, Mr. William Henry</td>\n",
       "      <td>0</td>\n",
       "      <td>5</td>\n",
       "      <td>3</td>\n",
       "      <td>0</td>\n",
       "      <td>0.0</td>\n",
       "      <td>373450</td>\n",
       "      <td>0</td>\n",
       "      <td>Mr</td>\n",
       "      <td>0</td>\n",
       "      <td>0</td>\n",
       "      <td>1</td>\n",
       "      <td>0</td>\n",
       "      <td>0</td>\n",
       "      <td>0</td>\n",
       "    </tr>\n",
       "    <tr>\n",
       "      <th>5</th>\n",
       "      <td>26.0</td>\n",
       "      <td>NaN</td>\n",
       "      <td>Q</td>\n",
       "      <td>8.4583</td>\n",
       "      <td>Moran, Mr. James</td>\n",
       "      <td>0</td>\n",
       "      <td>6</td>\n",
       "      <td>3</td>\n",
       "      <td>0</td>\n",
       "      <td>0.0</td>\n",
       "      <td>330877</td>\n",
       "      <td>0</td>\n",
       "      <td>Mr</td>\n",
       "      <td>0</td>\n",
       "      <td>0</td>\n",
       "      <td>1</td>\n",
       "      <td>0</td>\n",
       "      <td>0</td>\n",
       "      <td>0</td>\n",
       "    </tr>\n",
       "    <tr>\n",
       "      <th>6</th>\n",
       "      <td>54.0</td>\n",
       "      <td>E46</td>\n",
       "      <td>S</td>\n",
       "      <td>51.8625</td>\n",
       "      <td>McCarthy, Mr. Timothy J</td>\n",
       "      <td>0</td>\n",
       "      <td>7</td>\n",
       "      <td>1</td>\n",
       "      <td>0</td>\n",
       "      <td>0.0</td>\n",
       "      <td>17463</td>\n",
       "      <td>0</td>\n",
       "      <td>Mr</td>\n",
       "      <td>0</td>\n",
       "      <td>0</td>\n",
       "      <td>1</td>\n",
       "      <td>0</td>\n",
       "      <td>0</td>\n",
       "      <td>0</td>\n",
       "    </tr>\n",
       "    <tr>\n",
       "      <th>7</th>\n",
       "      <td>2.0</td>\n",
       "      <td>NaN</td>\n",
       "      <td>S</td>\n",
       "      <td>21.0750</td>\n",
       "      <td>Palsson, Master. Gosta Leonard</td>\n",
       "      <td>1</td>\n",
       "      <td>8</td>\n",
       "      <td>3</td>\n",
       "      <td>3</td>\n",
       "      <td>0.0</td>\n",
       "      <td>349909</td>\n",
       "      <td>0</td>\n",
       "      <td>Master</td>\n",
       "      <td>1</td>\n",
       "      <td>0</td>\n",
       "      <td>0</td>\n",
       "      <td>0</td>\n",
       "      <td>0</td>\n",
       "      <td>0</td>\n",
       "    </tr>\n",
       "    <tr>\n",
       "      <th>8</th>\n",
       "      <td>27.0</td>\n",
       "      <td>NaN</td>\n",
       "      <td>S</td>\n",
       "      <td>11.1333</td>\n",
       "      <td>Johnson, Mrs. Oscar W (Elisabeth Vilhelmina Berg)</td>\n",
       "      <td>2</td>\n",
       "      <td>9</td>\n",
       "      <td>3</td>\n",
       "      <td>0</td>\n",
       "      <td>1.0</td>\n",
       "      <td>347742</td>\n",
       "      <td>1</td>\n",
       "      <td>Mrs</td>\n",
       "      <td>0</td>\n",
       "      <td>0</td>\n",
       "      <td>0</td>\n",
       "      <td>1</td>\n",
       "      <td>0</td>\n",
       "      <td>0</td>\n",
       "    </tr>\n",
       "    <tr>\n",
       "      <th>9</th>\n",
       "      <td>14.0</td>\n",
       "      <td>NaN</td>\n",
       "      <td>C</td>\n",
       "      <td>30.0708</td>\n",
       "      <td>Nasser, Mrs. Nicholas (Adele Achem)</td>\n",
       "      <td>0</td>\n",
       "      <td>10</td>\n",
       "      <td>2</td>\n",
       "      <td>1</td>\n",
       "      <td>1.0</td>\n",
       "      <td>237736</td>\n",
       "      <td>1</td>\n",
       "      <td>Mrs</td>\n",
       "      <td>0</td>\n",
       "      <td>0</td>\n",
       "      <td>0</td>\n",
       "      <td>1</td>\n",
       "      <td>0</td>\n",
       "      <td>0</td>\n",
       "    </tr>\n",
       "  </tbody>\n",
       "</table>\n",
       "</div>"
      ],
      "text/plain": [
       "    Age Cabin Embarked     Fare  \\\n",
       "0  22.0   NaN        S   7.2500   \n",
       "1  38.0   C85        C  71.2833   \n",
       "2  26.0   NaN        S   7.9250   \n",
       "3  35.0  C123        S  53.1000   \n",
       "4  35.0   NaN        S   8.0500   \n",
       "5  26.0   NaN        Q   8.4583   \n",
       "6  54.0   E46        S  51.8625   \n",
       "7   2.0   NaN        S  21.0750   \n",
       "8  27.0   NaN        S  11.1333   \n",
       "9  14.0   NaN        C  30.0708   \n",
       "\n",
       "                                                Name  Parch  PassengerId  \\\n",
       "0                            Braund, Mr. Owen Harris      0            1   \n",
       "1  Cumings, Mrs. John Bradley (Florence Briggs Th...      0            2   \n",
       "2                             Heikkinen, Miss. Laina      0            3   \n",
       "3       Futrelle, Mrs. Jacques Heath (Lily May Peel)      0            4   \n",
       "4                           Allen, Mr. William Henry      0            5   \n",
       "5                                   Moran, Mr. James      0            6   \n",
       "6                            McCarthy, Mr. Timothy J      0            7   \n",
       "7                     Palsson, Master. Gosta Leonard      1            8   \n",
       "8  Johnson, Mrs. Oscar W (Elisabeth Vilhelmina Berg)      2            9   \n",
       "9                Nasser, Mrs. Nicholas (Adele Achem)      0           10   \n",
       "\n",
       "   Pclass  SibSp  Survived            Ticket  Sex   Title  Master  Miss  Mr  \\\n",
       "0       3      1       0.0         A/5 21171    0      Mr       0     0   1   \n",
       "1       1      1       1.0          PC 17599    1     Mrs       0     0   0   \n",
       "2       3      0       1.0  STON/O2. 3101282    1    Miss       0     1   0   \n",
       "3       1      1       1.0            113803    1     Mrs       0     0   0   \n",
       "4       3      0       0.0            373450    0      Mr       0     0   1   \n",
       "5       3      0       0.0            330877    0      Mr       0     0   1   \n",
       "6       1      0       0.0             17463    0      Mr       0     0   1   \n",
       "7       3      3       0.0            349909    0  Master       1     0   0   \n",
       "8       3      0       1.0            347742    1     Mrs       0     0   0   \n",
       "9       2      1       1.0            237736    1     Mrs       0     0   0   \n",
       "\n",
       "   Mrs  Officer  Royalty  \n",
       "0    0        0        0  \n",
       "1    1        0        0  \n",
       "2    0        0        0  \n",
       "3    1        0        0  \n",
       "4    0        0        0  \n",
       "5    0        0        0  \n",
       "6    0        0        0  \n",
       "7    0        0        0  \n",
       "8    1        0        0  \n",
       "9    1        0        0  "
      ]
     },
     "execution_count": 10,
     "metadata": {},
     "output_type": "execute_result"
    }
   ],
   "source": [
    "full.head(10)"
   ]
  },
  {
   "cell_type": "code",
   "execution_count": 11,
   "metadata": {},
   "outputs": [
    {
     "name": "stdout",
     "output_type": "stream",
     "text": [
      "Age               0\n",
      "Cabin          1014\n",
      "Embarked          2\n",
      "Fare              1\n",
      "Name              0\n",
      "Parch             0\n",
      "PassengerId       0\n",
      "Pclass            0\n",
      "SibSp             0\n",
      "Survived        418\n",
      "Ticket            0\n",
      "Sex               0\n",
      "Title             0\n",
      "Master            0\n",
      "Miss              0\n",
      "Mr                0\n",
      "Mrs               0\n",
      "Officer           0\n",
      "Royalty           0\n",
      "dtype: int64\n"
     ]
    }
   ],
   "source": [
    "print(full.isnull().sum())"
   ]
  },
  {
   "cell_type": "code",
   "execution_count": 12,
   "metadata": {},
   "outputs": [
    {
     "name": "stdout",
     "output_type": "stream",
     "text": [
      "Process  Sex  : Concluded!\n"
     ]
    }
   ],
   "source": [
    "full = dfunc.convertSexToNum(full, True)"
   ]
  },
  {
   "cell_type": "code",
   "execution_count": 13,
   "metadata": {},
   "outputs": [
    {
     "name": "stdout",
     "output_type": "stream",
     "text": [
      "Process  Title  : Concluded!\n"
     ]
    }
   ],
   "source": [
    "full = dfunc.fillTitles(full)"
   ]
  },
  {
   "cell_type": "code",
   "execution_count": 14,
   "metadata": {},
   "outputs": [
    {
     "name": "stdout",
     "output_type": "stream",
     "text": [
      "Process  Age  : Concluded!\n"
     ]
    }
   ],
   "source": [
    "#full = dfunc.fillMissingAge(full)\n",
    "full = dfunc.fillAge(full)"
   ]
  },
  {
   "cell_type": "code",
   "execution_count": 15,
   "metadata": {},
   "outputs": [
    {
     "name": "stdout",
     "output_type": "stream",
     "text": [
      "<class 'pandas.core.frame.DataFrame'>\n",
      "RangeIndex: 1309 entries, 0 to 1308\n",
      "Data columns (total 25 columns):\n",
      "Age            1309 non-null float64\n",
      "Cabin          295 non-null object\n",
      "Embarked       1307 non-null object\n",
      "Fare           1308 non-null float64\n",
      "Name           1309 non-null object\n",
      "Parch          1309 non-null int64\n",
      "PassengerId    1309 non-null int64\n",
      "Pclass         1309 non-null int64\n",
      "SibSp          1309 non-null int64\n",
      "Survived       891 non-null float64\n",
      "Ticket         1309 non-null object\n",
      "Title          1309 non-null object\n",
      "Master         1309 non-null uint8\n",
      "Miss           1309 non-null uint8\n",
      "Mr             1309 non-null uint8\n",
      "Mrs            1309 non-null uint8\n",
      "Officer        1309 non-null uint8\n",
      "Royalty        1309 non-null uint8\n",
      "Sex            1309 non-null int64\n",
      "Master         1309 non-null uint8\n",
      "Miss           1309 non-null uint8\n",
      "Mr             1309 non-null uint8\n",
      "Mrs            1309 non-null uint8\n",
      "Officer        1309 non-null uint8\n",
      "Royalty        1309 non-null uint8\n",
      "dtypes: float64(3), int64(5), object(5), uint8(12)\n",
      "memory usage: 148.4+ KB\n"
     ]
    }
   ],
   "source": [
    "full.info()"
   ]
  },
  {
   "cell_type": "code",
   "execution_count": 16,
   "metadata": {},
   "outputs": [
    {
     "name": "stdout",
     "output_type": "stream",
     "text": [
      "Process  Fare  : Concluded!\n"
     ]
    }
   ],
   "source": [
    "full = dfunc.fillMissingFare(full)"
   ]
  },
  {
   "cell_type": "code",
   "execution_count": 17,
   "metadata": {},
   "outputs": [
    {
     "name": "stdout",
     "output_type": "stream",
     "text": [
      "Process  Family  : Concluded!\n",
      "Process  Ticket group  : Concluded!\n",
      "Process  Fare  : Concluded!\n"
     ]
    }
   ],
   "source": [
    "full = dfunc.featureEng(full)"
   ]
  },
  {
   "cell_type": "code",
   "execution_count": 18,
   "metadata": {},
   "outputs": [
    {
     "name": "stdout",
     "output_type": "stream",
     "text": [
      "Process  Embarked  : Concluded!\n"
     ]
    }
   ],
   "source": [
    "full = dfunc.fillEmbarked(full)"
   ]
  },
  {
   "cell_type": "code",
   "execution_count": 19,
   "metadata": {},
   "outputs": [
    {
     "name": "stdout",
     "output_type": "stream",
     "text": [
      "Process  Title  : Concluded!\n"
     ]
    }
   ],
   "source": [
    "full = dfunc.fillTitles(full)"
   ]
  },
  {
   "cell_type": "code",
   "execution_count": 20,
   "metadata": {},
   "outputs": [
    {
     "name": "stdout",
     "output_type": "stream",
     "text": [
      "Process  Ticket  : Concluded!\n"
     ]
    }
   ],
   "source": [
    "full = dfunc.fillTicket(full)"
   ]
  },
  {
   "cell_type": "code",
<<<<<<< HEAD
   "execution_count": 21,
=======
   "execution_count": null,
   "metadata": {
    "collapsed": true
   },
   "outputs": [],
   "source": []
  },
  {
   "cell_type": "code",
   "execution_count": 13,
>>>>>>> 9bc4d47d1ddf6f7222b36ce11368934676b39fc3
   "metadata": {},
   "outputs": [
    {
     "name": "stdout",
     "output_type": "stream",
     "text": [
      "Process  Deck  : Concluded!\n"
     ]
    }
   ],
   "source": [
    "full = dfunc.fillDeck(full)"
   ]
  },
  {
   "cell_type": "code",
<<<<<<< HEAD
   "execution_count": 22,
=======
   "execution_count": null,
   "metadata": {
    "collapsed": true
   },
   "outputs": [],
   "source": []
  },
  {
   "cell_type": "code",
   "execution_count": 14,
>>>>>>> 9bc4d47d1ddf6f7222b36ce11368934676b39fc3
   "metadata": {
    "collapsed": true
   },
   "outputs": [],
   "source": [
    "#full = dfunc.fillCabin(full)"
   ]
  },
  {
   "cell_type": "code",
<<<<<<< HEAD
   "execution_count": 23,
=======
   "execution_count": null,
   "metadata": {
    "collapsed": true
   },
   "outputs": [],
   "source": []
  },
  {
   "cell_type": "code",
   "execution_count": 15,
>>>>>>> 9bc4d47d1ddf6f7222b36ce11368934676b39fc3
   "metadata": {},
   "outputs": [
    {
     "name": "stdout",
     "output_type": "stream",
     "text": [
      "Age                  0\n",
      "Cabin             1014\n",
      "Fare                 0\n",
      "Name                 0\n",
      "Parch                0\n",
      "PassengerId          0\n",
      "Pclass               0\n",
      "SibSp                0\n",
      "Survived           418\n",
      "Title                0\n",
      "Master               0\n",
      "Miss                 0\n",
      "Mr                   0\n",
      "Mrs                  0\n",
      "Officer              0\n",
      "Royalty              0\n",
      "Sex                  0\n",
      "Master               0\n",
      "Miss                 0\n",
      "Mr                   0\n",
      "Mrs                  0\n",
      "Officer              0\n",
      "Royalty              0\n",
      "Child                0\n",
      "Young                0\n",
      "Family               0\n",
      "Family1              0\n",
      "Family2              0\n",
      "Family3              0\n",
      "Family4              0\n",
      "                  ... \n",
      "Ticket_CASOTON       0\n",
      "Ticket_FC            0\n",
      "Ticket_FCC           0\n",
      "Ticket_Fa            0\n",
      "Ticket_LINE          0\n",
      "Ticket_LP            0\n",
      "Ticket_PC            0\n",
      "Ticket_PP            0\n",
      "Ticket_PPP           0\n",
      "Ticket_SC            0\n",
      "Ticket_SCA3          0\n",
      "Ticket_SCA4          0\n",
      "Ticket_SCAH          0\n",
      "Ticket_SCOW          0\n",
      "Ticket_SCPARIS       0\n",
      "Ticket_SCParis       0\n",
      "Ticket_SOC           0\n",
      "Ticket_SOP           0\n",
      "Ticket_SOPP          0\n",
      "Ticket_SOTONO2       0\n",
      "Ticket_SOTONOQ       0\n",
      "Ticket_SP            0\n",
      "Ticket_STONO         0\n",
      "Ticket_STONO2        0\n",
      "Ticket_STONOQ        0\n",
      "Ticket_SWPP          0\n",
      "Ticket_WC            0\n",
      "Ticket_WEP           0\n",
      "Ticket_XXX           0\n",
      "Deck                 0\n",
<<<<<<< HEAD
      "dtype: int64\n"
=======
      "Length: 82, dtype: int64\n"
>>>>>>> 9bc4d47d1ddf6f7222b36ce11368934676b39fc3
     ]
    }
   ],
   "source": [
    "print(full.isnull().sum())\n"
   ]
  },
  {
   "cell_type": "code",
<<<<<<< HEAD
   "execution_count": 24,
   "metadata": {},
=======
   "execution_count": 16,
   "metadata": {
    "scrolled": true
   },
>>>>>>> 9bc4d47d1ddf6f7222b36ce11368934676b39fc3
   "outputs": [
    {
     "name": "stdout",
     "output_type": "stream",
     "text": [
      "<class 'pandas.core.frame.DataFrame'>\n",
      "RangeIndex: 1309 entries, 0 to 1308\n",
<<<<<<< HEAD
      "Data columns (total 89 columns):\n",
=======
      "Data columns (total 82 columns):\n",
>>>>>>> 9bc4d47d1ddf6f7222b36ce11368934676b39fc3
      "Age               1309 non-null float64\n",
      "Cabin             295 non-null object\n",
      "Fare              1309 non-null float64\n",
      "Name              1309 non-null object\n",
      "Parch             1309 non-null int64\n",
      "PassengerId       1309 non-null int64\n",
      "Pclass            1309 non-null int64\n",
      "SibSp             1309 non-null int64\n",
      "Survived          891 non-null float64\n",
      "Title             1309 non-null object\n",
      "Master            1309 non-null uint8\n",
      "Miss              1309 non-null uint8\n",
      "Mr                1309 non-null uint8\n",
      "Mrs               1309 non-null uint8\n",
      "Officer           1309 non-null uint8\n",
      "Royalty           1309 non-null uint8\n",
      "Sex               1309 non-null int64\n",
      "Master            1309 non-null uint8\n",
      "Miss              1309 non-null uint8\n",
      "Mr                1309 non-null uint8\n",
      "Mrs               1309 non-null uint8\n",
      "Officer           1309 non-null uint8\n",
      "Royalty           1309 non-null uint8\n",
      "Child             1309 non-null bool\n",
      "Young             1309 non-null bool\n",
      "Family            1309 non-null int64\n",
      "Family1           1309 non-null int64\n",
      "Family2           1309 non-null int64\n",
      "Family3           1309 non-null int64\n",
      "Family4           1309 non-null int64\n",
      "Family5           1309 non-null int64\n",
      "Family6           1309 non-null int64\n",
      "Family7           1309 non-null int64\n",
      "Family8           1309 non-null int64\n",
      "Family9           1309 non-null int64\n",
      "Family10          1309 non-null int64\n",
<<<<<<< HEAD
      "TicketType        1309 non-null object\n",
      "Fare_cat          1309 non-null int64\n",
      "Shared_ticket     1309 non-null int64\n",
=======
      "Fare_cat          1309 non-null int32\n",
      "Shared_ticket     1309 non-null int32\n",
>>>>>>> 9bc4d47d1ddf6f7222b36ce11368934676b39fc3
      "Ticket_group      1309 non-null int64\n",
      "Fare_eff          1309 non-null float64\n",
      "Fare_eff_cat      1309 non-null int64\n",
      "Embarked_C        1309 non-null uint8\n",
      "Embarked_Q        1309 non-null uint8\n",
      "Embarked_S        1309 non-null uint8\n",
      "Master            1309 non-null uint8\n",
      "Miss              1309 non-null uint8\n",
      "Mr                1309 non-null uint8\n",
      "Mrs               1309 non-null uint8\n",
      "Officer           1309 non-null uint8\n",
      "Royalty           1309 non-null uint8\n",
      "Ticket_A          1309 non-null uint8\n",
      "Ticket_A4         1309 non-null uint8\n",
      "Ticket_A5         1309 non-null uint8\n",
      "Ticket_AQ3        1309 non-null uint8\n",
      "Ticket_AQ4        1309 non-null uint8\n",
      "Ticket_AS         1309 non-null uint8\n",
      "Ticket_C          1309 non-null uint8\n",
      "Ticket_CA         1309 non-null uint8\n",
      "Ticket_CASOTON    1309 non-null uint8\n",
      "Ticket_FC         1309 non-null uint8\n",
      "Ticket_FCC        1309 non-null uint8\n",
      "Ticket_Fa         1309 non-null uint8\n",
      "Ticket_LINE       1309 non-null uint8\n",
      "Ticket_LP         1309 non-null uint8\n",
      "Ticket_PC         1309 non-null uint8\n",
      "Ticket_PP         1309 non-null uint8\n",
      "Ticket_PPP        1309 non-null uint8\n",
      "Ticket_SC         1309 non-null uint8\n",
      "Ticket_SCA3       1309 non-null uint8\n",
      "Ticket_SCA4       1309 non-null uint8\n",
      "Ticket_SCAH       1309 non-null uint8\n",
      "Ticket_SCOW       1309 non-null uint8\n",
      "Ticket_SCPARIS    1309 non-null uint8\n",
      "Ticket_SCParis    1309 non-null uint8\n",
      "Ticket_SOC        1309 non-null uint8\n",
      "Ticket_SOP        1309 non-null uint8\n",
      "Ticket_SOPP       1309 non-null uint8\n",
      "Ticket_SOTONO2    1309 non-null uint8\n",
      "Ticket_SOTONOQ    1309 non-null uint8\n",
      "Ticket_SP         1309 non-null uint8\n",
      "Ticket_STONO      1309 non-null uint8\n",
      "Ticket_STONO2     1309 non-null uint8\n",
      "Ticket_STONOQ     1309 non-null uint8\n",
      "Ticket_SWPP       1309 non-null uint8\n",
      "Ticket_WC         1309 non-null uint8\n",
      "Ticket_WEP        1309 non-null uint8\n",
      "Ticket_XXX        1309 non-null uint8\n",
      "Deck              1309 non-null object\n",
<<<<<<< HEAD
      "dtypes: bool(2), float64(4), int64(20), object(5), uint8(58)\n",
      "memory usage: 373.3+ KB\n"
=======
      "dtypes: bool(2), float64(4), int32(3), int64(17), object(4), uint8(52)\n",
      "memory usage: 340.1+ KB\n"
>>>>>>> 9bc4d47d1ddf6f7222b36ce11368934676b39fc3
     ]
    }
   ],
   "source": [
    "full.info()"
   ]
  },
  {
   "cell_type": "code",
   "execution_count": 25,
   "metadata": {
    "collapsed": true
   },
   "outputs": [],
   "source": [
    "train_X, test_X, target_y = pfunc.prepareTrainTestTarget(full)\n",
    "model = RandomForestClassifier(n_estimators=100, max_features='sqrt')\n"
   ]
  },
  {
   "cell_type": "code",
<<<<<<< HEAD
   "execution_count": 26,
=======
   "execution_count": 21,
>>>>>>> 9bc4d47d1ddf6f7222b36ce11368934676b39fc3
   "metadata": {
    "collapsed": true
   },
   "outputs": [],
   "source": [
    "train_X = train_X.drop('Cabin',1)\n",
    "train_X = train_X.drop('Name',1)\n",
    "train_X = train_X.drop('Title',1)\n",
    "train_X = train_X.drop('TicketType',1)\n",
    "train_X = train_X.drop('Deck',1)\n",
    "train_X = train_X.drop('Survived',1)"
   ]
  },
  {
   "cell_type": "code",
<<<<<<< HEAD
   "execution_count": 27,
=======
   "execution_count": 22,
>>>>>>> 9bc4d47d1ddf6f7222b36ce11368934676b39fc3
   "metadata": {},
   "outputs": [
    {
     "name": "stdout",
     "output_type": "stream",
     "text": [
      "<class 'pandas.core.frame.DataFrame'>\n",
      "RangeIndex: 891 entries, 0 to 890\n",
      "Data columns (total 83 columns):\n",
      "Age               891 non-null float64\n",
      "Fare              891 non-null float64\n",
      "Parch             891 non-null int64\n",
      "PassengerId       891 non-null int64\n",
      "Pclass            891 non-null int64\n",
      "SibSp             891 non-null int64\n",
      "Master            891 non-null uint8\n",
      "Miss              891 non-null uint8\n",
      "Mr                891 non-null uint8\n",
      "Mrs               891 non-null uint8\n",
      "Officer           891 non-null uint8\n",
      "Royalty           891 non-null uint8\n",
      "Sex               891 non-null int64\n",
      "Master            891 non-null uint8\n",
      "Miss              891 non-null uint8\n",
      "Mr                891 non-null uint8\n",
      "Mrs               891 non-null uint8\n",
      "Officer           891 non-null uint8\n",
      "Royalty           891 non-null uint8\n",
      "Child             891 non-null bool\n",
      "Young             891 non-null bool\n",
      "Family            891 non-null int64\n",
      "Family1           891 non-null int64\n",
      "Family2           891 non-null int64\n",
      "Family3           891 non-null int64\n",
      "Family4           891 non-null int64\n",
      "Family5           891 non-null int64\n",
      "Family6           891 non-null int64\n",
      "Family7           891 non-null int64\n",
      "Family8           891 non-null int64\n",
      "Family9           891 non-null int64\n",
      "Family10          891 non-null int64\n",
      "Fare_cat          891 non-null int64\n",
      "Shared_ticket     891 non-null int64\n",
      "Ticket_group      891 non-null int64\n",
      "Fare_eff          891 non-null float64\n",
      "Fare_eff_cat      891 non-null int64\n",
      "Embarked_C        891 non-null uint8\n",
      "Embarked_Q        891 non-null uint8\n",
      "Embarked_S        891 non-null uint8\n",
      "Master            891 non-null uint8\n",
      "Miss              891 non-null uint8\n",
      "Mr                891 non-null uint8\n",
      "Mrs               891 non-null uint8\n",
      "Officer           891 non-null uint8\n",
      "Royalty           891 non-null uint8\n",
      "Ticket_A          891 non-null uint8\n",
      "Ticket_A4         891 non-null uint8\n",
      "Ticket_A5         891 non-null uint8\n",
      "Ticket_AQ3        891 non-null uint8\n",
      "Ticket_AQ4        891 non-null uint8\n",
      "Ticket_AS         891 non-null uint8\n",
      "Ticket_C          891 non-null uint8\n",
      "Ticket_CA         891 non-null uint8\n",
      "Ticket_CASOTON    891 non-null uint8\n",
      "Ticket_FC         891 non-null uint8\n",
      "Ticket_FCC        891 non-null uint8\n",
      "Ticket_Fa         891 non-null uint8\n",
      "Ticket_LINE       891 non-null uint8\n",
      "Ticket_LP         891 non-null uint8\n",
      "Ticket_PC         891 non-null uint8\n",
      "Ticket_PP         891 non-null uint8\n",
      "Ticket_PPP        891 non-null uint8\n",
      "Ticket_SC         891 non-null uint8\n",
      "Ticket_SCA3       891 non-null uint8\n",
      "Ticket_SCA4       891 non-null uint8\n",
      "Ticket_SCAH       891 non-null uint8\n",
      "Ticket_SCOW       891 non-null uint8\n",
      "Ticket_SCPARIS    891 non-null uint8\n",
      "Ticket_SCParis    891 non-null uint8\n",
      "Ticket_SOC        891 non-null uint8\n",
      "Ticket_SOP        891 non-null uint8\n",
      "Ticket_SOPP       891 non-null uint8\n",
      "Ticket_SOTONO2    891 non-null uint8\n",
      "Ticket_SOTONOQ    891 non-null uint8\n",
      "Ticket_SP         891 non-null uint8\n",
      "Ticket_STONO      891 non-null uint8\n",
      "Ticket_STONO2     891 non-null uint8\n",
      "Ticket_STONOQ     891 non-null uint8\n",
      "Ticket_SWPP       891 non-null uint8\n",
      "Ticket_WC         891 non-null uint8\n",
      "Ticket_WEP        891 non-null uint8\n",
      "Ticket_XXX        891 non-null uint8\n",
      "dtypes: bool(2), float64(3), int64(20), uint8(58)\n",
      "memory usage: 212.4 KB\n"
     ]
    }
   ],
   "source": [
    "train_X.info()"
   ]
  },
  {
   "cell_type": "code",
<<<<<<< HEAD
   "execution_count": 28,
=======
   "execution_count": 23,
>>>>>>> 9bc4d47d1ddf6f7222b36ce11368934676b39fc3
   "metadata": {},
   "outputs": [
    {
     "data": {
      "text/plain": [
       "RandomForestClassifier(bootstrap=True, class_weight=None, criterion='gini',\n",
       "            max_depth=None, max_features='sqrt', max_leaf_nodes=None,\n",
       "            min_impurity_split=1e-07, min_samples_leaf=1,\n",
       "            min_samples_split=2, min_weight_fraction_leaf=0.0,\n",
       "            n_estimators=100, n_jobs=1, oob_score=False, random_state=None,\n",
       "            verbose=0, warm_start=False)"
      ]
     },
<<<<<<< HEAD
     "execution_count": 28,
=======
     "execution_count": 23,
>>>>>>> 9bc4d47d1ddf6f7222b36ce11368934676b39fc3
     "metadata": {},
     "output_type": "execute_result"
    }
   ],
   "source": [
    "model.fit( train_X , target_y )"
   ]
  },
  {
   "cell_type": "code",
<<<<<<< HEAD
   "execution_count": 29,
=======
   "execution_count": 24,
>>>>>>> 9bc4d47d1ddf6f7222b36ce11368934676b39fc3
   "metadata": {
    "collapsed": true
   },
   "outputs": [],
   "source": [
    "features = pd.DataFrame()\n",
    "features['feature'] = train_X.columns\n",
    "features['importance'] = model.feature_importances_\n",
    "features.sort_values(by=['importance'], ascending=True, inplace=True)\n",
    "features.set_index('feature', inplace=True)\n",
    "\n"
   ]
  },
  {
   "cell_type": "code",
<<<<<<< HEAD
   "execution_count": 30,
=======
   "execution_count": 25,
>>>>>>> 9bc4d47d1ddf6f7222b36ce11368934676b39fc3
   "metadata": {},
   "outputs": [
    {
     "data": {
      "text/plain": [
<<<<<<< HEAD
       "<matplotlib.axes._subplots.AxesSubplot at 0x11a437160>"
      ]
     },
     "execution_count": 30,
=======
       "<matplotlib.axes._subplots.AxesSubplot at 0x19f5b218f60>"
      ]
     },
     "execution_count": 25,
>>>>>>> 9bc4d47d1ddf6f7222b36ce11368934676b39fc3
     "metadata": {},
     "output_type": "execute_result"
    },
    {
     "data": {
<<<<<<< HEAD
      "image/png": "iVBORw0KGgoAAAANSUhEUgAABNIAAARdCAYAAACU6W/eAAAABHNCSVQICAgIfAhkiAAAAAlwSFlz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\nTkSuQmCC\n",
      "text/plain": [
       "<matplotlib.figure.Figure at 0x11a430710>"
=======
      "image/png": "iVBORw0KGgoAAAANSUhEUgAABM8AAARaCAYAAABbvFU+AAAABHNCSVQICAgIfAhkiAAAAAlwSFlz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\njevNXgAAAABJRU5ErkJggg==\n",
      "text/plain": [
       "<matplotlib.figure.Figure at 0x19f5b2185c0>"
>>>>>>> 9bc4d47d1ddf6f7222b36ce11368934676b39fc3
      ]
     },
     "metadata": {},
     "output_type": "display_data"
    }
   ],
   "source": [
    "features.plot(kind='barh', figsize=(20, 20))"
   ]
  },
  {
   "cell_type": "code",
<<<<<<< HEAD
   "execution_count": 31,
=======
   "execution_count": 26,
>>>>>>> 9bc4d47d1ddf6f7222b36ce11368934676b39fc3
   "metadata": {},
   "outputs": [
    {
     "data": {
      "text/plain": [
<<<<<<< HEAD
       "0.8025461497623757"
      ]
     },
     "execution_count": 31,
=======
       "0.8092625435892854"
      ]
     },
     "execution_count": 26,
>>>>>>> 9bc4d47d1ddf6f7222b36ce11368934676b39fc3
     "metadata": {},
     "output_type": "execute_result"
    }
   ],
   "source": [
    "pfunc.calcScore(model, train_X , target_y, scoring='accuracy')"
   ]
  },
  {
   "cell_type": "code",
<<<<<<< HEAD
   "execution_count": 32,
   "metadata": {
    "collapsed": true
   },
   "outputs": [],
   "source": [
    "resultScores = {'RandomForestClassifier': 0.0,\n",
    "                    'DecisionTreeClassifier': 0.0,\n",
    "                    'MLPClassifier': 0.0,\n",
    "                    'GradientBoostingClassifier': 0.0,\n",
    "                    'ExtraTreesClassifier': 0.0,\n",
    "                    'BaggingClassifier': 0.0,\n",
    "                    'AdaBoostClassifier': 0.0,\n",
    "                    'LinearSVC': 0.0,\n",
    "                    'LogisticRegression': 0.0}"
   ]
  },
  {
   "cell_type": "code",
   "execution_count": null,
   "metadata": {
    "collapsed": true
   },
   "outputs": [],
   "source": []
  },
  {
   "cell_type": "code",
   "execution_count": 33,
=======
   "execution_count": 27,
>>>>>>> 9bc4d47d1ddf6f7222b36ce11368934676b39fc3
   "metadata": {},
   "outputs": [
    {
     "data": {
      "text/plain": [
       "RandomForestClassifier(bootstrap=False, class_weight=None, criterion='gini',\n",
       "            max_depth=6, max_features='sqrt', max_leaf_nodes=None,\n",
       "            min_impurity_split=1e-07, min_samples_leaf=3,\n",
       "            min_samples_split=10, min_weight_fraction_leaf=0.0,\n",
       "            n_estimators=100, n_jobs=1, oob_score=False, random_state=None,\n",
       "            verbose=0, warm_start=False)"
      ]
     },
<<<<<<< HEAD
     "execution_count": 33,
=======
     "execution_count": 27,
>>>>>>> 9bc4d47d1ddf6f7222b36ce11368934676b39fc3
     "metadata": {},
     "output_type": "execute_result"
    }
   ],
   "source": [
    "parameters = {'bootstrap': False, 'min_samples_leaf': 3, 'n_estimators': 100, 'min_samples_split': 10, 'max_features': 'sqrt', 'max_depth': 6}\n",
    "model = RandomForestClassifier(**parameters)\n",
    "model.fit( train_X , target_y )"
   ]
  },
  {
   "cell_type": "code",
<<<<<<< HEAD
   "execution_count": 34,
   "metadata": {
    "collapsed": true
   },
   "outputs": [],
   "source": [
    "resultScores['RandomForestClassifier'] = pfunc.calcScore(model, train_X , target_y, scoring='accuracy')"
   ]
  },
  {
   "cell_type": "code",
   "execution_count": 35,
=======
   "execution_count": 28,
>>>>>>> 9bc4d47d1ddf6f7222b36ce11368934676b39fc3
   "metadata": {},
   "outputs": [
    {
     "data": {
      "text/plain": [
<<<<<<< HEAD
       "dict_values([0.82606047903618252, 0.0, 0.0, 0.0, 0.0, 0.0, 0.0, 0.0, 0.0])"
      ]
     },
     "execution_count": 35,
=======
       "0.82605420196631874"
      ]
     },
     "execution_count": 28,
>>>>>>> 9bc4d47d1ddf6f7222b36ce11368934676b39fc3
     "metadata": {},
     "output_type": "execute_result"
    }
   ],
   "source": [
    "resultScores.values()"
   ]
  },
  {
   "cell_type": "code",
<<<<<<< HEAD
   "execution_count": 36,
=======
   "execution_count": 29,
>>>>>>> 9bc4d47d1ddf6f7222b36ce11368934676b39fc3
   "metadata": {},
   "outputs": [
    {
     "data": {
      "text/plain": [
       "dict_keys(['RandomForestClassifier', 'DecisionTreeClassifier', 'MLPClassifier', 'GradientBoostingClassifier', 'ExtraTreesClassifier', 'BaggingClassifier', 'AdaBoostClassifier', 'LinearSVC', 'LogisticRegression'])"
      ]
     },
<<<<<<< HEAD
     "execution_count": 36,
=======
     "execution_count": 29,
>>>>>>> 9bc4d47d1ddf6f7222b36ce11368934676b39fc3
     "metadata": {},
     "output_type": "execute_result"
    }
   ],
   "source": [
    "resultScores.keys()"
   ]
  },
  {
   "cell_type": "code",
   "execution_count": 37,
   "metadata": {
    "collapsed": true
   },
   "outputs": [],
   "source": [
    "model = DecisionTreeClassifier(random_state=0)\n",
    "model.fit( train_X , target_y )\n",
    "resultScores['DecisionTreeClassifier'] = pfunc.calcScore(model, train_X , target_y, scoring='accuracy')"
   ]
  },
  {
   "cell_type": "code",
<<<<<<< HEAD
   "execution_count": 38,
   "metadata": {
    "collapsed": true
   },
   "outputs": [],
=======
   "execution_count": 30,
   "metadata": {},
   "outputs": [
    {
     "data": {
      "text/plain": [
       "0.64215868077978944"
      ]
     },
     "execution_count": 30,
     "metadata": {},
     "output_type": "execute_result"
    }
   ],
>>>>>>> 9bc4d47d1ddf6f7222b36ce11368934676b39fc3
   "source": [
    "model = MLPClassifier(solver='sgd', alpha=1e-5, hidden_layer_sizes=(10, 4), random_state=1)\n",
    "model.fit( train_X , target_y )\n",
    "resultScores['MLPClassifier'] = pfunc.calcScore(model, train_X , target_y, scoring='accuracy')"
   ]
  },
  {
   "cell_type": "code",
<<<<<<< HEAD
   "execution_count": 39,
   "metadata": {
    "collapsed": true
   },
   "outputs": [],
=======
   "execution_count": 31,
   "metadata": {},
   "outputs": [
    {
     "data": {
      "text/plain": [
       "0.78018102076504359"
      ]
     },
     "execution_count": 31,
     "metadata": {},
     "output_type": "execute_result"
    }
   ],
>>>>>>> 9bc4d47d1ddf6f7222b36ce11368934676b39fc3
   "source": [
    "model = GradientBoostingClassifier()\n",
    "model.fit( train_X , target_y )\n",
    "resultScores['GradientBoostingClassifier'] = pfunc.calcScore(model, train_X , target_y, scoring='accuracy')"
   ]
  },
  {
   "cell_type": "code",
<<<<<<< HEAD
   "execution_count": 40,
   "metadata": {
    "collapsed": true
   },
   "outputs": [],
=======
   "execution_count": 32,
   "metadata": {},
   "outputs": [
    {
     "data": {
      "text/plain": [
       "0.7857171836028749"
      ]
     },
     "execution_count": 32,
     "metadata": {},
     "output_type": "execute_result"
    }
   ],
>>>>>>> 9bc4d47d1ddf6f7222b36ce11368934676b39fc3
   "source": [
    "model = ExtraTreesClassifier()\n",
    "model.fit( train_X , target_y )\n",
    "resultScores['ExtraTreesClassifier'] = pfunc.calcScore(model, train_X , target_y, scoring='accuracy')"
   ]
  },
  {
   "cell_type": "code",
<<<<<<< HEAD
   "execution_count": 41,
   "metadata": {
    "collapsed": true
   },
   "outputs": [],
=======
   "execution_count": 33,
   "metadata": {},
   "outputs": [
    {
     "data": {
      "text/plain": [
       "0.79593674983252283"
      ]
     },
     "execution_count": 33,
     "metadata": {},
     "output_type": "execute_result"
    }
   ],
>>>>>>> 9bc4d47d1ddf6f7222b36ce11368934676b39fc3
   "source": [
    "model = BaggingClassifier()\n",
    "model.fit( train_X , target_y )\n",
    "resultScores['BaggingClassifier'] = pfunc.calcScore(model, train_X , target_y, scoring='accuracy')"
   ]
  },
  {
   "cell_type": "code",
<<<<<<< HEAD
   "execution_count": 42,
   "metadata": {
    "collapsed": true
   },
   "outputs": [],
   "source": [
    "model = AdaBoostClassifier()\n",
    "model.fit( train_X , target_y )\n",
    "resultScores['AdaBoostClassifier'] = pfunc.calcScore(model, train_X , target_y, scoring='accuracy')"
   ]
  },
  {
   "cell_type": "code",
   "execution_count": 43,
   "metadata": {
    "collapsed": true
   },
   "outputs": [],
   "source": [
    "model = LinearSVC(random_state=0)\n",
    "model.fit( train_X , target_y )\n",
    "resultScores['LinearSVC'] = pfunc.calcScore(model, train_X , target_y, scoring='accuracy')"
   ]
  },
  {
   "cell_type": "code",
   "execution_count": 44,
   "metadata": {
    "collapsed": true
   },
   "outputs": [],
   "source": [
    "model = LogisticRegression()\n",
    "model.fit( train_X , target_y )\n",
    "resultScores['LogisticRegression'] = pfunc.calcScore(model, train_X , target_y, scoring='accuracy')"
   ]
  },
  {
   "cell_type": "code",
   "execution_count": 45,
   "metadata": {},
   "outputs": [],
   "source": [
    "myDf = pd.DataFrame.from_dict(resultScores, orient='index')"
   ]
  },
  {
   "cell_type": "code",
   "execution_count": null,
   "metadata": {},
   "outputs": [],
   "source": []
  },
  {
   "cell_type": "code",
   "execution_count": null,
   "metadata": {
    "collapsed": true
   },
   "outputs": [],
   "source": []
  },
  {
   "cell_type": "code",
   "execution_count": null,
   "metadata": {
    "collapsed": true
   },
   "outputs": [],
   "source": [
    "myDf.sort_values(by=[0], ascending=True, inplace=True)"
   ]
  },
  {
   "cell_type": "code",
   "execution_count": 49,
=======
   "execution_count": 34,
>>>>>>> 9bc4d47d1ddf6f7222b36ce11368934676b39fc3
   "metadata": {},
   "outputs": [
    {
     "data": {
      "text/html": [
       "<div>\n",
       "<table border=\"1\" class=\"dataframe\">\n",
       "  <thead>\n",
       "    <tr style=\"text-align: right;\">\n",
       "      <th></th>\n",
       "      <th>0</th>\n",
       "    </tr>\n",
       "  </thead>\n",
       "  <tbody>\n",
       "    <tr>\n",
       "      <th>MLPClassifier</th>\n",
       "      <td>0.545774</td>\n",
       "    </tr>\n",
       "    <tr>\n",
       "      <th>LinearSVC</th>\n",
       "      <td>0.602258</td>\n",
       "    </tr>\n",
       "    <tr>\n",
       "      <th>DecisionTreeClassifier</th>\n",
       "      <td>0.745387</td>\n",
       "    </tr>\n",
       "    <tr>\n",
       "      <th>AdaBoostClassifier</th>\n",
       "      <td>0.765549</td>\n",
       "    </tr>\n",
       "    <tr>\n",
       "      <th>GradientBoostingClassifier</th>\n",
       "      <td>0.785805</td>\n",
       "    </tr>\n",
       "    <tr>\n",
       "      <th>BaggingClassifier</th>\n",
       "      <td>0.789100</td>\n",
       "    </tr>\n",
       "    <tr>\n",
       "      <th>ExtraTreesClassifier</th>\n",
       "      <td>0.792453</td>\n",
       "    </tr>\n",
       "    <tr>\n",
       "      <th>LogisticRegression</th>\n",
       "      <td>0.813739</td>\n",
       "    </tr>\n",
       "    <tr>\n",
       "      <th>RandomForestClassifier</th>\n",
       "      <td>0.826060</td>\n",
       "    </tr>\n",
       "  </tbody>\n",
       "</table>\n",
       "</div>"
      ],
      "text/plain": [
<<<<<<< HEAD
       "                                   0\n",
       "MLPClassifier               0.545774\n",
       "LinearSVC                   0.602258\n",
       "DecisionTreeClassifier      0.745387\n",
       "AdaBoostClassifier          0.765549\n",
       "GradientBoostingClassifier  0.785805\n",
       "BaggingClassifier           0.789100\n",
       "ExtraTreesClassifier        0.792453\n",
       "LogisticRegression          0.813739\n",
       "RandomForestClassifier      0.826060"
      ]
     },
     "execution_count": 49,
=======
       "0.76556743470340138"
      ]
     },
     "execution_count": 34,
>>>>>>> 9bc4d47d1ddf6f7222b36ce11368934676b39fc3
     "metadata": {},
     "output_type": "execute_result"
    }
   ],
   "source": [
    "myDf"
   ]
  },
  {
   "cell_type": "code",
<<<<<<< HEAD
   "execution_count": 48,
   "metadata": {},
   "outputs": [
    {
     "data": {
      "text/plain": [
       "<matplotlib.axes._subplots.AxesSubplot at 0x11dc35f60>"
      ]
     },
     "execution_count": 48,
     "metadata": {},
     "output_type": "execute_result"
    },
    {
     "data": {
      "image/png": "iVBORw0KGgoAAAANSUhEUgAAAroAAAI+CAYAAABT3KnXAAAABHNCSVQICAgIfAhkiAAAAAlwSFlz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\nAAAAWOn/AGB9bQXYxvuNAAAAAElFTkSuQmCC\n",
      "text/plain": [
       "<matplotlib.figure.Figure at 0x11dc3c780>"
      ]
     },
     "metadata": {},
     "output_type": "display_data"
    }
   ],
   "source": [
    "myDf.plot(kind='barh', figsize=(10, 10))"
   ]
=======
   "execution_count": null,
   "metadata": {},
   "outputs": [],
   "source": []
>>>>>>> 9bc4d47d1ddf6f7222b36ce11368934676b39fc3
  },
  {
   "cell_type": "code",
   "execution_count": null,
   "metadata": {
    "collapsed": true
   },
   "outputs": [],
   "source": []
  },
  {
   "cell_type": "code",
   "execution_count": null,
   "metadata": {
    "collapsed": true
   },
   "outputs": [],
   "source": []
  },
  {
   "cell_type": "code",
   "execution_count": null,
   "metadata": {
    "collapsed": true
   },
   "outputs": [],
   "source": []
  },
  {
   "cell_type": "code",
   "execution_count": null,
   "metadata": {
    "collapsed": true
   },
   "outputs": [],
   "source": []
  },
  {
   "cell_type": "code",
   "execution_count": null,
   "metadata": {
    "collapsed": true
   },
   "outputs": [],
   "source": []
  },
  {
   "cell_type": "code",
   "execution_count": null,
   "metadata": {
    "collapsed": true
   },
   "outputs": [],
   "source": []
  },
  {
   "cell_type": "code",
   "execution_count": null,
   "metadata": {
    "collapsed": true
   },
   "outputs": [],
   "source": []
  }
 ],
 "metadata": {
  "kernelspec": {
   "display_name": "Python 3",
   "language": "python",
   "name": "python3"
  },
  "language_info": {
   "codemirror_mode": {
    "name": "ipython",
    "version": 3
   },
   "file_extension": ".py",
   "mimetype": "text/x-python",
   "name": "python",
   "nbconvert_exporter": "python",
   "pygments_lexer": "ipython3",
<<<<<<< HEAD
   "version": "3.6.0"
=======
   "version": "3.6.2"
>>>>>>> 9bc4d47d1ddf6f7222b36ce11368934676b39fc3
  }
 },
 "nbformat": 4,
 "nbformat_minor": 2
}
