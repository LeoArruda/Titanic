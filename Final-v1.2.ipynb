{
 "cells": [
  {
   "cell_type": "code",
   "execution_count": 1,
   "metadata": {},
   "outputs": [
    {
     "name": "stderr",
     "output_type": "stream",
     "text": [
      "C:\\Users\\lvarr\\AppData\\Local\\conda\\conda\\envs\\tensorflow\\lib\\site-packages\\sklearn\\cross_validation.py:44: DeprecationWarning: This module was deprecated in version 0.18 in favor of the model_selection module into which all the refactored classes and functions are moved. Also note that the interface of the new CV iterators are different from that of this module. This module will be removed in 0.20.\n",
      "  \"This module will be removed in 0.20.\", DeprecationWarning)\n"
     ]
    }
   ],
   "source": [
    "import warnings\n",
    "warnings.filterwarnings('ignore')\n",
    "\n",
    "\n",
    "\n",
    "# SKLearn Model Algorithms\n",
    "from sklearn.tree import DecisionTreeClassifier\n",
    "from sklearn.linear_model import LogisticRegression , Perceptron\n",
    "\n",
    "from sklearn.neighbors import KNeighborsClassifier\n",
    "from sklearn.naive_bayes import GaussianNB\n",
    "from sklearn.svm import SVC, LinearSVC\n",
    "\n",
    "# SKLearn ensemble classifiers\n",
    "from sklearn.ensemble import RandomForestClassifier , GradientBoostingClassifier\n",
    "from sklearn.ensemble import ExtraTreesClassifier , BaggingClassifier\n",
    "from sklearn.ensemble import VotingClassifier , AdaBoostClassifier\n",
    "\n",
    "# SKLearn Modelling Helpers\n",
    "from sklearn.preprocessing import Imputer , Normalizer , scale\n",
    "from sklearn.cross_validation import train_test_split , StratifiedKFold\n",
    "from sklearn.feature_selection import RFECV\n",
    "\n",
    "# Handle table-like data and matrices\n",
    "import numpy as np\n",
    "import pandas as pd\n",
    "\n",
    "# Visualisation\n",
    "import matplotlib as mpl\n",
    "import matplotlib.pyplot as plt\n",
    "import matplotlib.pylab as pylab\n",
    "import seaborn as sns\n",
    "\n",
    "# plot functions\n",
    "import plotFunctions as pfunc\n",
    "import dataFunctions as dfunc\n",
    "\n",
    "# Configure visualisations\n",
    "%matplotlib inline\n",
    "mpl.style.use( 'ggplot' )\n",
    "sns.set_style( 'white' )\n",
    "pylab.rcParams[ 'figure.figsize' ] = 8 , 6"
   ]
  },
  {
   "cell_type": "code",
   "execution_count": 2,
   "metadata": {
    "collapsed": true
   },
   "outputs": [],
   "source": [
    "full = dfunc.loadData()"
   ]
  },
  {
   "cell_type": "code",
   "execution_count": 3,
   "metadata": {},
   "outputs": [
    {
     "data": {
      "text/plain": [
       "Index(['Age', 'Cabin', 'Embarked', 'Fare', 'Name', 'Parch', 'PassengerId',\n",
       "       'Pclass', 'Sex', 'SibSp', 'Survived', 'Ticket'],\n",
       "      dtype='object')"
      ]
     },
     "execution_count": 3,
     "metadata": {},
     "output_type": "execute_result"
    }
   ],
   "source": [
    "full.keys()\n",
    "\n"
   ]
  },
  {
   "cell_type": "code",
   "execution_count": null,
   "metadata": {},
   "outputs": [],
   "source": []
  },
  {
   "cell_type": "code",
   "execution_count": 4,
   "metadata": {},
   "outputs": [
    {
     "name": "stdout",
     "output_type": "stream",
     "text": [
      "Process  Step 1 : Sex  : Concluded!\n",
      "Process  Converting Sex to num  : Concluded!\n",
      "Process  Step 2 : Titles  : Concluded!\n",
      "Process  Processing Title  : Concluded!\n",
      "Process  Step 3 : Deck  : Concluded!\n",
      "Process  Deck  : Concluded!\n",
      "Process  Step 4 : Ticket  : Concluded!\n",
      "Process  Ticket number  : Concluded!\n",
      "Process  Step 5 : Fare  : Concluded!\n",
      "Process  Converting Fare  : Concluded!\n",
      "Process  Step 4_ : Ticket  : Concluded!\n",
      "Process  Ticket Grouping  : Concluded!\n",
      "Process  Step 5_ : Fare  : Concluded!\n",
      "Process  Ticket group  : Concluded!\n",
      "Process  Step 6 : Family Size  : Concluded!\n",
      "Process  Family Size  : Concluded!\n",
      "Process  Step 7 : Embarked  : Concluded!\n",
      "Process  Embarked  : Concluded!\n",
      "Process  Step 9 : Name Size  : Concluded!\n",
      "Process  Name Size  : Concluded!\n",
      "Process  Step 10: Childhood  : Concluded!\n",
      "Process  Step 8 : Age  : Concluded!\n",
      "Process  Preprocessing done !  : Concluded!\n"
     ]
    }
   ],
   "source": [
    "\n",
    "\n",
    "\n",
    "full=dfunc.featureProcessing(full)"
   ]
  },
  {
   "cell_type": "code",
   "execution_count": 5,
   "metadata": {},
   "outputs": [
    {
     "data": {
      "text/plain": [
       "0       2\n",
       "1       3\n",
       "2       1\n",
       "3       3\n",
       "4       2\n",
       "5       2\n",
       "6       2\n",
       "7       0\n",
       "8       3\n",
       "9       3\n",
       "10      1\n",
       "11      1\n",
       "12      2\n",
       "13      2\n",
       "14      1\n",
       "15      3\n",
       "16      0\n",
       "17      2\n",
       "18      3\n",
       "19      3\n",
       "20      2\n",
       "21      2\n",
       "22      1\n",
       "23      2\n",
       "24      1\n",
       "25      3\n",
       "26      2\n",
       "27      2\n",
       "28      1\n",
       "29      2\n",
       "       ..\n",
       "1279    2\n",
       "1280    0\n",
       "1281    2\n",
       "1282    3\n",
       "1283    0\n",
       "1284    2\n",
       "1285    2\n",
       "1286    3\n",
       "1287    2\n",
       "1288    3\n",
       "1289    2\n",
       "1290    2\n",
       "1291    1\n",
       "1292    2\n",
       "1293    1\n",
       "1294    2\n",
       "1295    2\n",
       "1296    2\n",
       "1297    2\n",
       "1298    2\n",
       "1299    1\n",
       "1300    1\n",
       "1301    1\n",
       "1302    3\n",
       "1303    1\n",
       "1304    2\n",
       "1305    5\n",
       "1306    2\n",
       "1307    2\n",
       "1308    0\n",
       "Name: Title, Length: 1309, dtype: int64"
      ]
     },
     "execution_count": 5,
     "metadata": {},
     "output_type": "execute_result"
    }
   ],
   "source": [
    "#full = dfunc.fillAge(full)\n",
    "full[\"Title\"]\n",
    "#full[\"Pclass\"]\n",
    "#full[\"Sex\"]"
   ]
  },
  {
   "cell_type": "code",
   "execution_count": 6,
   "metadata": {},
   "outputs": [
    {
     "name": "stdout",
     "output_type": "stream",
     "text": [
      "Age                 0\n",
      "Cabin            1014\n",
      "Embarked            0\n",
      "Fare                0\n",
      "Name                0\n",
      "Parch               0\n",
      "PassengerId         0\n",
      "Pclass              0\n",
      "SibSp               0\n",
      "Survived          418\n",
      "Ticket              0\n",
      "Sex                 0\n",
      "Title               0\n",
      "Master              0\n",
      "Miss                0\n",
      "Mr                  0\n",
      "Mrs                 0\n",
      "Officer             0\n",
      "Royalty             0\n",
      "Deck                0\n",
      "TicketNumber        0\n",
      "Shared_ticket       0\n",
      "Ticket_group        0\n",
      "Fare_cat            0\n",
      "Fare_eff            0\n",
      "Fare_eff_cat        0\n",
      "Family              0\n",
      "FsizeD              0\n",
      "NameLength          0\n",
      "NlengthD            0\n",
      "Child               0\n",
      "Young               0\n",
      "Adult               0\n",
      "dtype: int64\n"
     ]
    }
   ],
   "source": [
    "print(full.isnull().sum())"
   ]
  },
  {
   "cell_type": "code",
   "execution_count": 7,
   "metadata": {},
   "outputs": [
    {
     "name": "stdout",
     "output_type": "stream",
     "text": [
      "<class 'pandas.core.frame.DataFrame'>\n",
      "RangeIndex: 1309 entries, 0 to 1308\n",
      "Data columns (total 33 columns):\n",
      "Age              1309 non-null float64\n",
      "Cabin            295 non-null object\n",
      "Embarked         1309 non-null int64\n",
      "Fare             1309 non-null float64\n",
      "Name             1309 non-null object\n",
      "Parch            1309 non-null int64\n",
      "PassengerId      1309 non-null int64\n",
      "Pclass           1309 non-null int64\n",
      "SibSp            1309 non-null int64\n",
      "Survived         891 non-null float64\n",
      "Ticket           1309 non-null object\n",
      "Sex              1309 non-null int64\n",
      "Title            1309 non-null int64\n",
      "Master           1309 non-null uint8\n",
      "Miss             1309 non-null uint8\n",
      "Mr               1309 non-null uint8\n",
      "Mrs              1309 non-null uint8\n",
      "Officer          1309 non-null uint8\n",
      "Royalty          1309 non-null uint8\n",
      "Deck             1309 non-null int64\n",
      "TicketNumber     1309 non-null float64\n",
      "Shared_ticket    1309 non-null int32\n",
      "Ticket_group     1309 non-null int64\n",
      "Fare_cat         1309 non-null int32\n",
      "Fare_eff         1309 non-null float64\n",
      "Fare_eff_cat     1309 non-null int32\n",
      "Family           1309 non-null int64\n",
      "FsizeD           1309 non-null int64\n",
      "NameLength       1309 non-null int64\n",
      "NlengthD         1309 non-null int64\n",
      "Child            1309 non-null bool\n",
      "Young            1309 non-null bool\n",
      "Adult            1309 non-null bool\n",
      "dtypes: bool(3), float64(5), int32(3), int64(13), object(3), uint8(6)\n",
      "memory usage: 241.7+ KB\n"
     ]
    }
   ],
   "source": [
    "full.info()"
   ]
  },
  {
   "cell_type": "code",
   "execution_count": 8,
   "metadata": {},
   "outputs": [],
   "source": [
    "#full[\"Title\"].head(50)"
   ]
  },
  {
   "cell_type": "code",
   "execution_count": 9,
   "metadata": {},
   "outputs": [],
   "source": [
    "test = full.head(891)\n",
    "titanic = full.iloc[891:]"
   ]
  },
  {
   "cell_type": "code",
   "execution_count": 10,
   "metadata": {},
   "outputs": [],
   "source": [
    "parameters = {'bootstrap': True,\n",
    "              'max_depth': 6, \n",
    "              'max_features': 'auto', \n",
    "              'min_samples_leaf': 1, \n",
    "              'min_samples_split': 10, \n",
    "              'n_estimators': 100,\n",
    "              'n_jobs': -1\n",
    "             }\n",
    "rf = RandomForestClassifier(**parameters)"
   ]
  },
  {
   "cell_type": "code",
   "execution_count": null,
   "metadata": {
    "collapsed": true
   },
   "outputs": [],
   "source": []
  },
  {
   "cell_type": "code",
   "execution_count": 11,
   "metadata": {},
   "outputs": [],
   "source": [
    "predictors = [\"Age\",\n",
    "            \"Embarked\",\n",
    "            \"Fare\",\n",
    "            \"Pclass\",\n",
    "            \"Sex\",\n",
    "            \"SibSp\",\n",
    "            \"Parch\",\n",
    "            \"Deck\",\n",
    "            \"Family\",\n",
    "            \"FsizeD\",\n",
    "            \"NameLength\",\n",
    "            \"NlengthD\",\n",
    "            \"Title\",\n",
    "            \"TicketNumber\",\n",
    "            \"Master\",\n",
    "            \"Miss\",\n",
    "            \"Mr\",\n",
    "            \"Mrs\",\n",
    "            \"Officer\",\n",
    "            \"Royalty\",\n",
    "            \"Shared_ticket\",\n",
    "            \"Ticket_group\",\n",
    "            \"Fare_cat\",\n",
    "            \"Fare_eff\",\n",
    "            \"Fare_eff_cat\",\n",
    "            \"Child\",\n",
    "            #\"Young\",\n",
    "            \"Adult\"\n",
    "             ]"
   ]
  },
  {
   "cell_type": "code",
   "execution_count": 12,
   "metadata": {},
   "outputs": [],
   "source": [
    "test = full.head(891)\n",
    "titanic = full.iloc[891:]"
   ]
  },
  {
   "cell_type": "code",
   "execution_count": 13,
   "metadata": {},
   "outputs": [],
   "source": [
    "from sklearn import cross_validation\n",
    "from sklearn.ensemble import RandomForestClassifier\n",
    "from sklearn.cross_validation import KFold\n",
    "from sklearn.model_selection import cross_val_predict\n",
    "from sklearn.model_selection import cross_val_score\n",
    "\n",
    "from sklearn.model_selection import ShuffleSplit"
   ]
  },
  {
   "cell_type": "code",
   "execution_count": 14,
   "metadata": {},
   "outputs": [],
   "source": [
    "rf.fit(test[predictors],test[\"Survived\"])\n",
    "\n",
    "kf = KFold(test.shape[0], n_folds=10, random_state=1)\n",
    "cv = ShuffleSplit(n_splits=10, test_size=0.3, random_state=50)"
   ]
  },
  {
   "cell_type": "code",
   "execution_count": 15,
   "metadata": {
    "collapsed": true
   },
   "outputs": [],
   "source": [
    "predictions = cross_validation.cross_val_predict(rf, test[predictors],test[\"Survived\"],cv=kf)\n",
    "predictions = pd.Series(predictions)\n",
    "scores = cross_val_score(rf, test[predictors], test[\"Survived\"],scoring='accuracy', cv=kf)"
   ]
  },
  {
   "cell_type": "code",
   "execution_count": 16,
   "metadata": {},
   "outputs": [
    {
     "name": "stdout",
     "output_type": "stream",
     "text": [
      "[ 0.81111111  0.86516854  0.7752809   0.86516854  0.87640449  0.83146067\n",
      "  0.80898876  0.79775281  0.86516854  0.83146067]\n",
      "0.83279650437\n"
     ]
    }
   ],
   "source": [
    "print(scores)\n",
    "print(scores.mean())"
   ]
  },
  {
   "cell_type": "code",
   "execution_count": 17,
   "metadata": {},
   "outputs": [
    {
     "data": {
      "image/png": "[encoded data removed]",
      "text/plain": [
       "<matplotlib.figure.Figure at 0x2193e6baef0>"
      ]
     },
     "metadata": {},
     "output_type": "display_data"
    }
   ],
   "source": [
    "from sklearn.grid_search import GridSearchCV\n",
    "\n",
    "importances=rf.feature_importances_\n",
    "std = np.std([rf.feature_importances_ for tree in rf.estimators_],\n",
    "             axis=0)\n",
    "indices = np.argsort(importances)[::-1]\n",
    "sorted_important_features=[]\n",
    "for i in indices:\n",
    "    sorted_important_features.append(predictors[i])\n",
    "#predictors=titanic.columns\n",
    "plt.figure()\n",
    "plt.title(\"Feature Importances By Random Forest Model\")\n",
    "plt.bar(range(np.size(predictors)), importances[indices],\n",
    "       color=\"b\", yerr=std[indices], align=\"center\")\n",
    "plt.xticks(range(np.size(predictors)), sorted_important_features, rotation='vertical')\n",
    "\n",
    "plt.xlim([-1, np.size(predictors)]);"
   ]
  },
  {
   "cell_type": "code",
   "execution_count": null,
   "metadata": {
    "collapsed": true
   },
   "outputs": [],
   "source": []
  },
  {
   "cell_type": "code",
   "execution_count": null,
   "metadata": {
    "collapsed": true
   },
   "outputs": [],
   "source": []
  },
  {
   "cell_type": "code",
   "execution_count": 18,
   "metadata": {},
   "outputs": [],
   "source": [
    "output = rf.predict(titanic[predictors]).astype(int)\n",
    "df_out = pd.DataFrame()"
   ]
  },
  {
   "cell_type": "code",
   "execution_count": 19,
   "metadata": {
    "scrolled": true
   },
   "outputs": [],
   "source": [
    "df_out['PassengerId']=titanic['PassengerId']"
   ]
  },
  {
   "cell_type": "code",
   "execution_count": 20,
   "metadata": {
    "collapsed": true
   },
   "outputs": [],
   "source": [
    "df_out['Survived'] = output"
   ]
  },
  {
   "cell_type": "code",
   "execution_count": 21,
   "metadata": {
    "collapsed": true
   },
   "outputs": [],
   "source": [
    "#df_out[['PassengerId','Survived']].to_csv('./output/output-20171015.csv',index=False)"
   ]
  },
  {
   "cell_type": "code",
   "execution_count": null,
   "metadata": {},
   "outputs": [],
   "source": []
  },
  {
   "cell_type": "code",
   "execution_count": null,
   "metadata": {},
   "outputs": [],
   "source": []
  },
  {
   "cell_type": "code",
   "execution_count": null,
   "metadata": {
    "collapsed": true
   },
   "outputs": [],
   "source": [
    "\n"
   ]
  },
  {
   "cell_type": "code",
   "execution_count": null,
   "metadata": {},
   "outputs": [],
   "source": []
  },
  {
   "cell_type": "code",
   "execution_count": null,
   "metadata": {},
   "outputs": [],
   "source": []
  },
  {
   "cell_type": "code",
   "execution_count": null,
   "metadata": {},
   "outputs": [],
   "source": []
  },
  {
   "cell_type": "code",
   "execution_count": null,
   "metadata": {},
   "outputs": [],
   "source": []
  },
  {
   "cell_type": "code",
   "execution_count": null,
   "metadata": {},
   "outputs": [],
   "source": []
  },
  {
   "cell_type": "code",
   "execution_count": null,
   "metadata": {},
   "outputs": [],
   "source": []
  },
  {
   "cell_type": "code",
   "execution_count": null,
   "metadata": {},
   "outputs": [],
   "source": []
  },
  {
   "cell_type": "code",
   "execution_count": null,
   "metadata": {},
   "outputs": [],
   "source": []
  },
  {
   "cell_type": "code",
   "execution_count": null,
   "metadata": {},
   "outputs": [],
   "source": []
  },
  {
   "cell_type": "code",
   "execution_count": null,
   "metadata": {},
   "outputs": [],
   "source": []
  },
  {
   "cell_type": "code",
   "execution_count": null,
   "metadata": {
    "collapsed": true
   },
   "outputs": [],
   "source": []
  },
  {
   "cell_type": "code",
   "execution_count": null,
   "metadata": {
    "collapsed": true
   },
   "outputs": [],
   "source": []
  },
  {
   "cell_type": "code",
   "execution_count": null,
   "metadata": {
    "collapsed": true
   },
   "outputs": [],
   "source": []
  },
  {
   "cell_type": "code",
   "execution_count": null,
   "metadata": {
    "collapsed": true
   },
   "outputs": [],
   "source": []
  },
  {
   "cell_type": "code",
   "execution_count": null,
   "metadata": {
    "collapsed": true
   },
   "outputs": [],
   "source": []
  },
  {
   "cell_type": "code",
   "execution_count": null,
   "metadata": {
    "collapsed": true
   },
   "outputs": [],
   "source": []
  },
  {
   "cell_type": "code",
   "execution_count": null,
   "metadata": {
    "collapsed": true
   },
   "outputs": [],
   "source": []
  },
  {
   "cell_type": "code",
   "execution_count": null,
   "metadata": {
    "collapsed": true
   },
   "outputs": [],
   "source": []
  },
  {
   "cell_type": "code",
   "execution_count": null,
   "metadata": {
    "collapsed": true
   },
   "outputs": [],
   "source": []
  }
 ],
 "metadata": {
  "kernelspec": {
   "display_name": "Python 3",
   "language": "python",
   "name": "python3"
  },
  "language_info": {
   "codemirror_mode": {
    "name": "ipython",
    "version": 3
   },
   "file_extension": ".py",
   "mimetype": "text/x-python",
   "name": "python",
   "nbconvert_exporter": "python",
   "pygments_lexer": "ipython3",
   "version": "3.6.2"
  }
 },
 "nbformat": 4,
 "nbformat_minor": 2
}
